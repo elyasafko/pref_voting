{
 "cells": [
  {
   "cell_type": "code",
   "execution_count": 6,
   "metadata": {},
   "outputs": [],
   "source": [
    "from pref_voting.generate_profiles import * \n",
    "from pref_voting.voting_methods import *\n",
    "from tqdm.notebook import tqdm  "
   ]
  },
  {
   "cell_type": "code",
   "execution_count": 7,
   "metadata": {},
   "outputs": [],
   "source": [
    "@vm(name=\"River TB\")\n",
    "def river_tb_OLD(edata, curr_cands = None, tie_breaker = None, strength_function = None):   \n",
    "    \"\"\"\n",
    "    River with a fixed linear order on the candidates to break any ties in the margins.  Since the tie_breaker is a linear order, this method is resolute.   \n",
    "\n",
    "    Args:\n",
    "        edata (Profile, ProfileWithTies, MarginGraph): Any election data that has a `margin` method. \n",
    "        curr_cands (List[int], optional): If set, then find the winners for the profile restricted to the candidates in ``curr_cands``\n",
    "        tie_breaker (List[int], optional): A linear order on the candidates.  If not set, then the candidates are sorted in ascending order.\n",
    "        strength_function (function, optional): The strength function to be used to calculate the strength of a path.   The default is the margin method of ``edata``.   This only matters when the ballots are not linear orders. \n",
    "\n",
    "    Returns: \n",
    "        A sorted list of candidates. \n",
    "\n",
    "\n",
    "    \"\"\"\n",
    "    candidates = edata.candidates if curr_cands is None else curr_cands    \n",
    "    strength_function = edata.margin if strength_function is None else strength_function    \n",
    "\n",
    "    tb_ranking = tie_breaker if tie_breaker is not None else sorted(list(candidates))\n",
    "\n",
    "    cw = edata.condorcet_winner()\n",
    "    # River is Condorcet consistent, so simply return the Condorcet winner if exists\n",
    "    if cw is not None: \n",
    "        winners = [cw]\n",
    "    else:\n",
    "        w_edges = [(c1, c2, strength_function(c1, c2)) for c1 in candidates for c2 in candidates if c1 != c2 and (edata.majority_prefers(c1, c2) or edata.is_tied(c1, c2))]\n",
    "        winners = list()  \n",
    "        strengths = sorted(list(set([e[2] for e in w_edges])), reverse=True)\n",
    "        river_defeat = nx.DiGraph() \n",
    "        for s in strengths: \n",
    "            edges = [e for e in w_edges if e[2] == s]\n",
    "            \n",
    "            # break ties using the lexicographic ordering on tuples given tb_ranking\n",
    "            sorted_edges = sorted(edges, key = lambda e: (tb_ranking.index(e[0]), tb_ranking.index(e[1])), reverse=False)\n",
    "            for e in sorted_edges: \n",
    "                if e[1] not in river_defeat.nodes or len(list(river_defeat.in_edges(e[1]))) == 0:\n",
    "                    river_defeat.add_edge(e[0], e[1], weight=e[2])\n",
    "                    if does_create_cycle(river_defeat, e):\n",
    "                        river_defeat.remove_edge(e[0], e[1])\n",
    "        winners.append(maximal_elements(river_defeat)[0])\n",
    "    return sorted(list(set(winners)))\n",
    "\n",
    "\n",
    "@vm(name=\"River ZT\")\n",
    "def river_zt_OLD(profile, curr_cands = None, strength_function = None):   \n",
    "    \"\"\"River where a fixed voter breaks any ties in the margins.  It is always the voter in position 0 that breaks the ties.  Since voters have strict preferences, this method is resolute.  \n",
    "\n",
    "    Args:\n",
    "        edata (Profile): A profile of linear orders\n",
    "        curr_cands (List[int], optional): If set, then find the winners for the profile restricted to the candidates in ``curr_cands``\n",
    "\n",
    "    Returns: \n",
    "        A sorted list of candidates. \n",
    "\n",
    "    .. seealso::\n",
    "\n",
    "        :meth:`pref_voting.margin_based_methods.river`, :meth:`pref_voting.margin_based_methods.river_with_test`, :meth:`pref_voting.margin_based_methods.ranked_pairs`\n",
    "\n",
    "    \n",
    "    \"\"\"\n",
    "    candidates = profile.candidates if curr_cands is None else curr_cands    \n",
    "    \n",
    "    # the tie-breaker is always the first voter. \n",
    "    tb_ranking = tuple([c for c in list(profile._rankings[0]) if c in candidates])\n",
    "    \n",
    "    return river_tb_OLD(profile, curr_cands = curr_cands, tie_breaker = tb_ranking, strength_function = strength_function)\n",
    "    \n",
    "\n"
   ]
  },
  {
   "cell_type": "code",
   "execution_count": 8,
   "metadata": {},
   "outputs": [],
   "source": [
    "@vm(name=\"Ranked Pairs TB\")\n",
    "def ranked_pairs_tb_OLD(edata, curr_cands = None, tie_breaker = None, strength_function = None):   \n",
    "    \"\"\"\n",
    "    Ranked Pairs with a fixed linear order on the candidates to break any ties in the margins.   \n",
    "    Since the tie_breaker is a linear order, this method is resolute.   \n",
    "\n",
    "    Args:\n",
    "        edata (Profile, ProfileWithTies, MarginGraph): Any election data that has a `margin` method. \n",
    "        curr_cands (List[int], optional): If set, then find the winners for the profile restricted to the candidates in ``curr_cands``\n",
    "        strength_function (function, optional): The strength function to be used to calculate the strength of a path.   The default is the margin method of ``edata``.   This only matters when the ballots are not linear orders. \n",
    "\n",
    "    Returns: \n",
    "        A sorted list of candidates. \n",
    "\n",
    "    .. seealso::\n",
    "\n",
    "        :meth:`pref_voting.margin_based_methods.ranked_pairs`, :meth:`pref_voting.margin_based_methods.ranked_pairs_with_test`, :meth:`pref_voting.margin_based_methods.ranked_pairs_from_stacks`\n",
    "\n",
    "    .. exec_code::\n",
    "\n",
    "        from pref_voting.profiles import Profile\n",
    "        from pref_voting.margin_based_methods import ranked_pairs_from_stacks, ranked_pairs_tb, ranked_pairs_zt\n",
    "\n",
    "        prof = Profile([[2, 3, 1, 0], [0, 3, 1, 2], [1, 3, 2, 0], [2, 1, 3, 0]], [1, 1, 1, 1])\n",
    "\n",
    "        prof.display()\n",
    "\n",
    "        ranked_pairs_from_stacks.display(prof)\n",
    "        ranked_pairs_tb.display(prof)\n",
    "        ranked_pairs_tb.display(prof, tie_breaker = [3, 2, 1, 0])\n",
    "        ranked_pairs_zt.display(prof)\n",
    "\n",
    "    \"\"\"\n",
    "\n",
    "    candidates = edata.candidates if curr_cands is None else curr_cands    \n",
    "    strength_function = edata.margin if strength_function is None else strength_function\n",
    "    \n",
    "    tb_ranking = tie_breaker if tie_breaker is not None else sorted(list(candidates))\n",
    "\n",
    "    cw = edata.condorcet_winner()\n",
    "    # Ranked Pairs is Condorcet consistent, so simply return the Condorcet winner if exists\n",
    "    if cw is not None: \n",
    "        winners = [cw]\n",
    "    else:\n",
    "        w_edges = [(c1, c2, strength_function(c1, c2)) for c1 in candidates for c2 in candidates \n",
    "                   if edata.majority_prefers(c1, c2) or edata.is_tied(c1, c2)]\n",
    "        winners = list()            \n",
    "        strengths = sorted(list(set([e[2] for e in w_edges])), reverse=True)\n",
    "        \n",
    "        rp_defeat = nx.DiGraph() \n",
    "        for s in strengths: \n",
    "            edges = [e for e in w_edges if e[2] == s]\n",
    "            \n",
    "            # break ties using the lexicographic ordering on tuples given tb_ranking\n",
    "            sorted_edges = sorted(edges, key = lambda e: (tb_ranking.index(e[0]), tb_ranking.index(e[1])), reverse=False)\n",
    "            for e in sorted_edges: \n",
    "                rp_defeat.add_edge(e[0], e[1], weight=e[2])\n",
    "                if does_create_cycle(rp_defeat, e):\n",
    "                    rp_defeat.remove_edge(e[0], e[1])\n",
    "        winners.append(maximal_elements(rp_defeat)[0])\n",
    "\n",
    "    return sorted(list(set(winners)))\n",
    "\n",
    "\n",
    "@vm(name=\"Ranked Pairs ZT OLD\")\n",
    "def ranked_pairs_zt_OLD(profile, curr_cands = None, strength_function = None):   \n",
    "    \"\"\"Ranked pairs where a fixed voter breaks any ties in the margins.  It is always the voter in position 0 that breaks the ties.  Since voters have strict preferences, this method is resolute.  This is known as Ranked Pairs ZT, for Zavist Tideman.\n",
    "\n",
    "    Args:\n",
    "        edata (Profile): A profile of linear orders\n",
    "        curr_cands (List[int], optional): If set, then find the winners for the profile restricted to the candidates in ``curr_cands``\n",
    "\n",
    "    Returns: \n",
    "        A sorted list of candidates. \n",
    "\n",
    "    .. seealso::\n",
    "\n",
    "        :meth:`pref_voting.margin_based_methods.ranked_pairs`, :meth:`pref_voting.margin_based_methods.ranked_pairs_with_test`, :meth:`pref_voting.margin_based_methods.ranked_pairs_from_stacks`\n",
    "\n",
    "    .. exec_code::\n",
    "\n",
    "        from pref_voting.profiles import Profile\n",
    "        from pref_voting.margin_based_methods import ranked_pairs_from_stacks, ranked_pairs_tb, ranked_pairs_zt\n",
    "\n",
    "        prof = Profile([[2, 3, 1, 0], [0, 3, 1, 2], [1, 3, 2, 0], [2, 1, 3, 0]], [1, 1, 1, 1])\n",
    "\n",
    "        prof.display()\n",
    "\n",
    "        ranked_pairs_from_stacks.display(prof)\n",
    "        ranked_pairs_tb.display(prof)\n",
    "        ranked_pairs_tb.display(prof, tie_breaker = [3, 2, 1, 0])\n",
    "        ranked_pairs_zt.display(prof)\n",
    "\n",
    "    \n",
    "    \"\"\"\n",
    "    candidates = profile.candidates if curr_cands is None else curr_cands    \n",
    "    \n",
    "    # the tie-breaker is always the first voter. \n",
    "    tb_ranking = tuple([c for c in list(profile._rankings[0]) if c in candidates])\n",
    "    \n",
    "    return ranked_pairs_tb_OLD(profile, curr_cands = curr_cands, tie_breaker = tb_ranking, strength_function = strength_function)\n"
   ]
  },
  {
   "cell_type": "code",
   "execution_count": 10,
   "metadata": {},
   "outputs": [
    {
     "data": {
      "application/vnd.jupyter.widget-view+json": {
       "model_id": "6a35166dbf784d12a772397ec6406048",
       "version_major": 2,
       "version_minor": 0
      },
      "text/plain": [
       "  0%|          | 0/100000 [00:00<?, ?it/s]"
      ]
     },
     "metadata": {},
     "output_type": "display_data"
    },
    {
     "data": {
      "application/vnd.jupyter.widget-view+json": {
       "model_id": "74913302ee4a4ea482c0ac757e733e1b",
       "version_major": 2,
       "version_minor": 0
      },
      "text/plain": [
       "  0%|          | 0/100000 [00:00<?, ?it/s]"
      ]
     },
     "metadata": {},
     "output_type": "display_data"
    },
    {
     "data": {
      "application/vnd.jupyter.widget-view+json": {
       "model_id": "ded11128dc80469488294ae973e80758",
       "version_major": 2,
       "version_minor": 0
      },
      "text/plain": [
       "  0%|          | 0/100000 [00:00<?, ?it/s]"
      ]
     },
     "metadata": {},
     "output_type": "display_data"
    },
    {
     "data": {
      "application/vnd.jupyter.widget-view+json": {
       "model_id": "18e94767a8784590847f5b660b7c3923",
       "version_major": 2,
       "version_minor": 0
      },
      "text/plain": [
       "  0%|          | 0/100000 [00:00<?, ?it/s]"
      ]
     },
     "metadata": {},
     "output_type": "display_data"
    },
    {
     "ename": "KeyboardInterrupt",
     "evalue": "",
     "output_type": "error",
     "traceback": [
      "\u001b[0;31m---------------------------------------------------------------------------\u001b[0m",
      "\u001b[0;31mKeyboardInterrupt\u001b[0m                         Traceback (most recent call last)",
      "Cell \u001b[0;32mIn[10], line 9\u001b[0m\n\u001b[1;32m      6\u001b[0m \u001b[38;5;28;01mfor\u001b[39;00m num_voters \u001b[38;5;129;01min\u001b[39;00m all_num_voters:\n\u001b[1;32m      7\u001b[0m     \u001b[38;5;28;01mfor\u001b[39;00m t \u001b[38;5;129;01min\u001b[39;00m tqdm(\u001b[38;5;28mrange\u001b[39m(num_trials)): \n\u001b[0;32m----> 9\u001b[0m         prof \u001b[38;5;241m=\u001b[39m \u001b[43mgenerate_profile\u001b[49m\u001b[43m(\u001b[49m\u001b[43mnum_cands\u001b[49m\u001b[43m,\u001b[49m\u001b[43m \u001b[49m\u001b[43mnum_voters\u001b[49m\u001b[43m)\u001b[49m\n\u001b[1;32m     10\u001b[0m         rp_zt_OLD_ws \u001b[38;5;241m=\u001b[39m ranked_pairs_zt_OLD(prof)\n\u001b[1;32m     11\u001b[0m         ranked_pairs_zt_ws \u001b[38;5;241m=\u001b[39m ranked_pairs_zt(prof)\n",
      "File \u001b[0;32m~/Dropbox/code/voting-scripts/pref_voting/pref_voting/generate_profiles.py:452\u001b[0m, in \u001b[0;36mgenerate_profile\u001b[0;34m(num_candidates, num_voters, anonymize, num_profiles, **kwargs)\u001b[0m\n\u001b[1;32m    433\u001b[0m \u001b[38;5;28;01mdef\u001b[39;00m \u001b[38;5;21mgenerate_profile\u001b[39m(num_candidates, \n\u001b[1;32m    434\u001b[0m                      num_voters, \n\u001b[1;32m    435\u001b[0m                      anonymize\u001b[38;5;241m=\u001b[39m\u001b[38;5;28;01mFalse\u001b[39;00m,\n\u001b[1;32m    436\u001b[0m                      num_profiles\u001b[38;5;241m=\u001b[39m\u001b[38;5;241m1\u001b[39m,\n\u001b[1;32m    437\u001b[0m                      \u001b[38;5;241m*\u001b[39m\u001b[38;5;241m*\u001b[39mkwargs): \n\u001b[1;32m    438\u001b[0m \u001b[38;5;250m    \u001b[39m\u001b[38;5;124;03m\"\"\"\u001b[39;00m\n\u001b[1;32m    439\u001b[0m \u001b[38;5;124;03m    Generate profiles using the prefsampling library.\u001b[39;00m\n\u001b[1;32m    440\u001b[0m \n\u001b[0;32m   (...)\u001b[0m\n\u001b[1;32m    449\u001b[0m \u001b[38;5;124;03m        list: A list of profiles or a single profile if num_profiles is 1.  \u001b[39;00m\n\u001b[1;32m    450\u001b[0m \u001b[38;5;124;03m    \"\"\"\u001b[39;00m\n\u001b[0;32m--> 452\u001b[0m     profs \u001b[38;5;241m=\u001b[39m \u001b[43m[\u001b[49m\u001b[43mProfile\u001b[49m\u001b[43m(\u001b[49m\u001b[43mget_rankings\u001b[49m\u001b[43m(\u001b[49m\u001b[43mnum_candidates\u001b[49m\u001b[43m,\u001b[49m\n\u001b[1;32m    453\u001b[0m \u001b[43m                                  \u001b[49m\u001b[43mnum_voters\u001b[49m\u001b[43m,\u001b[49m\u001b[43m \u001b[49m\n\u001b[1;32m    454\u001b[0m \u001b[43m                                  \u001b[49m\u001b[38;5;241;43m*\u001b[39;49m\u001b[38;5;241;43m*\u001b[39;49m\u001b[43mkwargs\u001b[49m\u001b[43m)\u001b[49m\u001b[43m)\u001b[49m\u001b[43m  \u001b[49m\n\u001b[1;32m    455\u001b[0m \u001b[43m                                  \u001b[49m\u001b[38;5;28;43;01mfor\u001b[39;49;00m\u001b[43m \u001b[49m\u001b[43m_\u001b[49m\u001b[43m \u001b[49m\u001b[38;5;129;43;01min\u001b[39;49;00m\u001b[43m \u001b[49m\u001b[38;5;28;43mrange\u001b[39;49m\u001b[43m(\u001b[49m\u001b[43mnum_profiles\u001b[49m\u001b[43m)\u001b[49m\u001b[43m]\u001b[49m\n\u001b[1;32m    457\u001b[0m     \u001b[38;5;28;01mif\u001b[39;00m anonymize: \n\u001b[1;32m    458\u001b[0m         profs \u001b[38;5;241m=\u001b[39m [prof\u001b[38;5;241m.\u001b[39manonymize() \u001b[38;5;28;01mfor\u001b[39;00m prof \u001b[38;5;129;01min\u001b[39;00m profs]\n",
      "File \u001b[0;32m~/Dropbox/code/voting-scripts/pref_voting/pref_voting/generate_profiles.py:452\u001b[0m, in \u001b[0;36m<listcomp>\u001b[0;34m(.0)\u001b[0m\n\u001b[1;32m    433\u001b[0m \u001b[38;5;28;01mdef\u001b[39;00m \u001b[38;5;21mgenerate_profile\u001b[39m(num_candidates, \n\u001b[1;32m    434\u001b[0m                      num_voters, \n\u001b[1;32m    435\u001b[0m                      anonymize\u001b[38;5;241m=\u001b[39m\u001b[38;5;28;01mFalse\u001b[39;00m,\n\u001b[1;32m    436\u001b[0m                      num_profiles\u001b[38;5;241m=\u001b[39m\u001b[38;5;241m1\u001b[39m,\n\u001b[1;32m    437\u001b[0m                      \u001b[38;5;241m*\u001b[39m\u001b[38;5;241m*\u001b[39mkwargs): \n\u001b[1;32m    438\u001b[0m \u001b[38;5;250m    \u001b[39m\u001b[38;5;124;03m\"\"\"\u001b[39;00m\n\u001b[1;32m    439\u001b[0m \u001b[38;5;124;03m    Generate profiles using the prefsampling library.\u001b[39;00m\n\u001b[1;32m    440\u001b[0m \n\u001b[0;32m   (...)\u001b[0m\n\u001b[1;32m    449\u001b[0m \u001b[38;5;124;03m        list: A list of profiles or a single profile if num_profiles is 1.  \u001b[39;00m\n\u001b[1;32m    450\u001b[0m \u001b[38;5;124;03m    \"\"\"\u001b[39;00m\n\u001b[0;32m--> 452\u001b[0m     profs \u001b[38;5;241m=\u001b[39m [\u001b[43mProfile\u001b[49m\u001b[43m(\u001b[49m\u001b[43mget_rankings\u001b[49m\u001b[43m(\u001b[49m\u001b[43mnum_candidates\u001b[49m\u001b[43m,\u001b[49m\n\u001b[1;32m    453\u001b[0m \u001b[43m                                  \u001b[49m\u001b[43mnum_voters\u001b[49m\u001b[43m,\u001b[49m\u001b[43m \u001b[49m\n\u001b[1;32m    454\u001b[0m \u001b[43m                                  \u001b[49m\u001b[38;5;241;43m*\u001b[39;49m\u001b[38;5;241;43m*\u001b[39;49m\u001b[43mkwargs\u001b[49m\u001b[43m)\u001b[49m\u001b[43m)\u001b[49m  \n\u001b[1;32m    455\u001b[0m                                   \u001b[38;5;28;01mfor\u001b[39;00m _ \u001b[38;5;129;01min\u001b[39;00m \u001b[38;5;28mrange\u001b[39m(num_profiles)]\n\u001b[1;32m    457\u001b[0m     \u001b[38;5;28;01mif\u001b[39;00m anonymize: \n\u001b[1;32m    458\u001b[0m         profs \u001b[38;5;241m=\u001b[39m [prof\u001b[38;5;241m.\u001b[39manonymize() \u001b[38;5;28;01mfor\u001b[39;00m prof \u001b[38;5;129;01min\u001b[39;00m profs]\n",
      "File \u001b[0;32m~/Dropbox/code/voting-scripts/pref_voting/pref_voting/profiles.py:194\u001b[0m, in \u001b[0;36mProfile.__init__\u001b[0;34m(self, rankings, rcounts, cmap)\u001b[0m\n\u001b[1;32m    191\u001b[0m \u001b[38;5;28mself\u001b[39m\u001b[38;5;241m.\u001b[39m_rcounts \u001b[38;5;241m=\u001b[39m np\u001b[38;5;241m.\u001b[39marray([\u001b[38;5;241m1\u001b[39m]\u001b[38;5;241m*\u001b[39m\u001b[38;5;28mlen\u001b[39m(rankings)) \u001b[38;5;28;01mif\u001b[39;00m rcounts \u001b[38;5;129;01mis\u001b[39;00m \u001b[38;5;28;01mNone\u001b[39;00m \u001b[38;5;28;01melse\u001b[39;00m np\u001b[38;5;241m.\u001b[39marray(rcounts) \n\u001b[1;32m    193\u001b[0m \u001b[38;5;66;03m# for each voter, the ranks of each candidate\u001b[39;00m\n\u001b[0;32m--> 194\u001b[0m \u001b[38;5;28mself\u001b[39m\u001b[38;5;241m.\u001b[39m_ranks \u001b[38;5;241m=\u001b[39m np\u001b[38;5;241m.\u001b[39marray(\u001b[43m[\u001b[49m\u001b[43m[\u001b[49m\u001b[43mnp\u001b[49m\u001b[38;5;241;43m.\u001b[39;49m\u001b[43mwhere\u001b[49m\u001b[43m(\u001b[49m\u001b[43m_r\u001b[49m\u001b[43m \u001b[49m\u001b[38;5;241;43m==\u001b[39;49m\u001b[43m \u001b[49m\u001b[43mc\u001b[49m\u001b[43m)\u001b[49m\u001b[43m[\u001b[49m\u001b[38;5;241;43m0\u001b[39;49m\u001b[43m]\u001b[49m\u001b[43m[\u001b[49m\u001b[38;5;241;43m0\u001b[39;49m\u001b[43m]\u001b[49m\u001b[43m \u001b[49m\u001b[38;5;241;43m+\u001b[39;49m\u001b[43m \u001b[49m\u001b[38;5;241;43m1\u001b[39;49m\u001b[43m \u001b[49m\n\u001b[1;32m    195\u001b[0m \u001b[43m                         \u001b[49m\u001b[38;5;28;43;01mfor\u001b[39;49;00m\u001b[43m \u001b[49m\u001b[43mc\u001b[49m\u001b[43m \u001b[49m\u001b[38;5;129;43;01min\u001b[39;49;00m\u001b[43m \u001b[49m\u001b[38;5;28;43mself\u001b[39;49m\u001b[38;5;241;43m.\u001b[39;49m\u001b[43mcandidates\u001b[49m\u001b[43m]\u001b[49m\u001b[43m \u001b[49m\n\u001b[1;32m    196\u001b[0m \u001b[43m                         \u001b[49m\u001b[38;5;28;43;01mfor\u001b[39;49;00m\u001b[43m  \u001b[49m\u001b[43m_r\u001b[49m\u001b[43m \u001b[49m\u001b[38;5;129;43;01min\u001b[39;49;00m\u001b[43m \u001b[49m\u001b[38;5;28;43mself\u001b[39;49m\u001b[38;5;241;43m.\u001b[39;49m\u001b[43m_rankings\u001b[49m\u001b[43m]\u001b[49m)\n\u001b[1;32m    198\u001b[0m \u001b[38;5;66;03m# 2d array where the c,d entry is the support of c over d\u001b[39;00m\n\u001b[1;32m    199\u001b[0m \u001b[38;5;28mself\u001b[39m\u001b[38;5;241m.\u001b[39m_tally \u001b[38;5;241m=\u001b[39m np\u001b[38;5;241m.\u001b[39marray([[_support(\u001b[38;5;28mself\u001b[39m\u001b[38;5;241m.\u001b[39m_ranks, \u001b[38;5;28mself\u001b[39m\u001b[38;5;241m.\u001b[39m_rcounts, c1, c2) \n\u001b[1;32m    200\u001b[0m                          \u001b[38;5;28;01mfor\u001b[39;00m c2 \u001b[38;5;129;01min\u001b[39;00m \u001b[38;5;28mself\u001b[39m\u001b[38;5;241m.\u001b[39mcandidates] \n\u001b[1;32m    201\u001b[0m                          \u001b[38;5;28;01mfor\u001b[39;00m c1 \u001b[38;5;129;01min\u001b[39;00m \u001b[38;5;28mself\u001b[39m\u001b[38;5;241m.\u001b[39mcandidates ])\n",
      "File \u001b[0;32m~/Dropbox/code/voting-scripts/pref_voting/pref_voting/profiles.py:194\u001b[0m, in \u001b[0;36m<listcomp>\u001b[0;34m(.0)\u001b[0m\n\u001b[1;32m    191\u001b[0m \u001b[38;5;28mself\u001b[39m\u001b[38;5;241m.\u001b[39m_rcounts \u001b[38;5;241m=\u001b[39m np\u001b[38;5;241m.\u001b[39marray([\u001b[38;5;241m1\u001b[39m]\u001b[38;5;241m*\u001b[39m\u001b[38;5;28mlen\u001b[39m(rankings)) \u001b[38;5;28;01mif\u001b[39;00m rcounts \u001b[38;5;129;01mis\u001b[39;00m \u001b[38;5;28;01mNone\u001b[39;00m \u001b[38;5;28;01melse\u001b[39;00m np\u001b[38;5;241m.\u001b[39marray(rcounts) \n\u001b[1;32m    193\u001b[0m \u001b[38;5;66;03m# for each voter, the ranks of each candidate\u001b[39;00m\n\u001b[0;32m--> 194\u001b[0m \u001b[38;5;28mself\u001b[39m\u001b[38;5;241m.\u001b[39m_ranks \u001b[38;5;241m=\u001b[39m np\u001b[38;5;241m.\u001b[39marray([\u001b[43m[\u001b[49m\u001b[43mnp\u001b[49m\u001b[38;5;241;43m.\u001b[39;49m\u001b[43mwhere\u001b[49m\u001b[43m(\u001b[49m\u001b[43m_r\u001b[49m\u001b[43m \u001b[49m\u001b[38;5;241;43m==\u001b[39;49m\u001b[43m \u001b[49m\u001b[43mc\u001b[49m\u001b[43m)\u001b[49m\u001b[43m[\u001b[49m\u001b[38;5;241;43m0\u001b[39;49m\u001b[43m]\u001b[49m\u001b[43m[\u001b[49m\u001b[38;5;241;43m0\u001b[39;49m\u001b[43m]\u001b[49m\u001b[43m \u001b[49m\u001b[38;5;241;43m+\u001b[39;49m\u001b[43m \u001b[49m\u001b[38;5;241;43m1\u001b[39;49m\u001b[43m \u001b[49m\n\u001b[1;32m    195\u001b[0m \u001b[43m                         \u001b[49m\u001b[38;5;28;43;01mfor\u001b[39;49;00m\u001b[43m \u001b[49m\u001b[43mc\u001b[49m\u001b[43m \u001b[49m\u001b[38;5;129;43;01min\u001b[39;49;00m\u001b[43m \u001b[49m\u001b[38;5;28;43mself\u001b[39;49m\u001b[38;5;241;43m.\u001b[39;49m\u001b[43mcandidates\u001b[49m\u001b[43m]\u001b[49m \n\u001b[1;32m    196\u001b[0m                          \u001b[38;5;28;01mfor\u001b[39;00m  _r \u001b[38;5;129;01min\u001b[39;00m \u001b[38;5;28mself\u001b[39m\u001b[38;5;241m.\u001b[39m_rankings])\n\u001b[1;32m    198\u001b[0m \u001b[38;5;66;03m# 2d array where the c,d entry is the support of c over d\u001b[39;00m\n\u001b[1;32m    199\u001b[0m \u001b[38;5;28mself\u001b[39m\u001b[38;5;241m.\u001b[39m_tally \u001b[38;5;241m=\u001b[39m np\u001b[38;5;241m.\u001b[39marray([[_support(\u001b[38;5;28mself\u001b[39m\u001b[38;5;241m.\u001b[39m_ranks, \u001b[38;5;28mself\u001b[39m\u001b[38;5;241m.\u001b[39m_rcounts, c1, c2) \n\u001b[1;32m    200\u001b[0m                          \u001b[38;5;28;01mfor\u001b[39;00m c2 \u001b[38;5;129;01min\u001b[39;00m \u001b[38;5;28mself\u001b[39m\u001b[38;5;241m.\u001b[39mcandidates] \n\u001b[1;32m    201\u001b[0m                          \u001b[38;5;28;01mfor\u001b[39;00m c1 \u001b[38;5;129;01min\u001b[39;00m \u001b[38;5;28mself\u001b[39m\u001b[38;5;241m.\u001b[39mcandidates ])\n",
      "File \u001b[0;32m~/Dropbox/code/voting-scripts/pref_voting/pref_voting/profiles.py:194\u001b[0m, in \u001b[0;36m<listcomp>\u001b[0;34m(.0)\u001b[0m\n\u001b[1;32m    191\u001b[0m \u001b[38;5;28mself\u001b[39m\u001b[38;5;241m.\u001b[39m_rcounts \u001b[38;5;241m=\u001b[39m np\u001b[38;5;241m.\u001b[39marray([\u001b[38;5;241m1\u001b[39m]\u001b[38;5;241m*\u001b[39m\u001b[38;5;28mlen\u001b[39m(rankings)) \u001b[38;5;28;01mif\u001b[39;00m rcounts \u001b[38;5;129;01mis\u001b[39;00m \u001b[38;5;28;01mNone\u001b[39;00m \u001b[38;5;28;01melse\u001b[39;00m np\u001b[38;5;241m.\u001b[39marray(rcounts) \n\u001b[1;32m    193\u001b[0m \u001b[38;5;66;03m# for each voter, the ranks of each candidate\u001b[39;00m\n\u001b[0;32m--> 194\u001b[0m \u001b[38;5;28mself\u001b[39m\u001b[38;5;241m.\u001b[39m_ranks \u001b[38;5;241m=\u001b[39m np\u001b[38;5;241m.\u001b[39marray([[\u001b[43mnp\u001b[49m\u001b[38;5;241;43m.\u001b[39;49m\u001b[43mwhere\u001b[49m\u001b[43m(\u001b[49m\u001b[43m_r\u001b[49m\u001b[43m \u001b[49m\u001b[38;5;241;43m==\u001b[39;49m\u001b[43m \u001b[49m\u001b[43mc\u001b[49m\u001b[43m)\u001b[49m[\u001b[38;5;241m0\u001b[39m][\u001b[38;5;241m0\u001b[39m] \u001b[38;5;241m+\u001b[39m \u001b[38;5;241m1\u001b[39m \n\u001b[1;32m    195\u001b[0m                          \u001b[38;5;28;01mfor\u001b[39;00m c \u001b[38;5;129;01min\u001b[39;00m \u001b[38;5;28mself\u001b[39m\u001b[38;5;241m.\u001b[39mcandidates] \n\u001b[1;32m    196\u001b[0m                          \u001b[38;5;28;01mfor\u001b[39;00m  _r \u001b[38;5;129;01min\u001b[39;00m \u001b[38;5;28mself\u001b[39m\u001b[38;5;241m.\u001b[39m_rankings])\n\u001b[1;32m    198\u001b[0m \u001b[38;5;66;03m# 2d array where the c,d entry is the support of c over d\u001b[39;00m\n\u001b[1;32m    199\u001b[0m \u001b[38;5;28mself\u001b[39m\u001b[38;5;241m.\u001b[39m_tally \u001b[38;5;241m=\u001b[39m np\u001b[38;5;241m.\u001b[39marray([[_support(\u001b[38;5;28mself\u001b[39m\u001b[38;5;241m.\u001b[39m_ranks, \u001b[38;5;28mself\u001b[39m\u001b[38;5;241m.\u001b[39m_rcounts, c1, c2) \n\u001b[1;32m    200\u001b[0m                          \u001b[38;5;28;01mfor\u001b[39;00m c2 \u001b[38;5;129;01min\u001b[39;00m \u001b[38;5;28mself\u001b[39m\u001b[38;5;241m.\u001b[39mcandidates] \n\u001b[1;32m    201\u001b[0m                          \u001b[38;5;28;01mfor\u001b[39;00m c1 \u001b[38;5;129;01min\u001b[39;00m \u001b[38;5;28mself\u001b[39m\u001b[38;5;241m.\u001b[39mcandidates ])\n",
      "File \u001b[0;32m/Library/Frameworks/Python.framework/Versions/3.11/lib/python3.11/site-packages/numpy/core/multiarray.py:346\u001b[0m, in \u001b[0;36mwhere\u001b[0;34m(condition, x, y)\u001b[0m\n\u001b[1;32m    256\u001b[0m \u001b[38;5;250m    \u001b[39m\u001b[38;5;124;03m\"\"\"\u001b[39;00m\n\u001b[1;32m    257\u001b[0m \u001b[38;5;124;03m    inner(a, b, /)\u001b[39;00m\n\u001b[1;32m    258\u001b[0m \n\u001b[0;32m   (...)\u001b[0m\n\u001b[1;32m    341\u001b[0m \n\u001b[1;32m    342\u001b[0m \u001b[38;5;124;03m    \"\"\"\u001b[39;00m\n\u001b[1;32m    343\u001b[0m     \u001b[38;5;28;01mreturn\u001b[39;00m (a, b)\n\u001b[0;32m--> 346\u001b[0m \u001b[38;5;129m@array_function_from_c_func_and_dispatcher\u001b[39m(_multiarray_umath\u001b[38;5;241m.\u001b[39mwhere)\n\u001b[1;32m    347\u001b[0m \u001b[38;5;28;01mdef\u001b[39;00m \u001b[38;5;21mwhere\u001b[39m(condition, x\u001b[38;5;241m=\u001b[39m\u001b[38;5;28;01mNone\u001b[39;00m, y\u001b[38;5;241m=\u001b[39m\u001b[38;5;28;01mNone\u001b[39;00m):\n\u001b[1;32m    348\u001b[0m \u001b[38;5;250m    \u001b[39m\u001b[38;5;124;03m\"\"\"\u001b[39;00m\n\u001b[1;32m    349\u001b[0m \u001b[38;5;124;03m    where(condition, [x, y], /)\u001b[39;00m\n\u001b[1;32m    350\u001b[0m \n\u001b[0;32m   (...)\u001b[0m\n\u001b[1;32m    416\u001b[0m \u001b[38;5;124;03m           [ 0,  3, -1]])\u001b[39;00m\n\u001b[1;32m    417\u001b[0m \u001b[38;5;124;03m    \"\"\"\u001b[39;00m\n\u001b[1;32m    418\u001b[0m     \u001b[38;5;28;01mreturn\u001b[39;00m (condition, x, y)\n",
      "\u001b[0;31mKeyboardInterrupt\u001b[0m: "
     ]
    }
   ],
   "source": [
    "all_num_cands = [3, 4, 5, 6]\n",
    "all_num_voters = [10, 100]\n",
    "num_trials = 100_000\n",
    "\n",
    "for num_cands in all_num_cands:\n",
    "    for num_voters in all_num_voters:\n",
    "        for t in tqdm(range(num_trials)): \n",
    "\n",
    "            prof = generate_profile(num_cands, num_voters)\n",
    "            rp_zt_OLD_ws = ranked_pairs_zt_OLD(prof)\n",
    "            ranked_pairs_zt_ws = ranked_pairs_zt(prof)\n",
    "\n",
    "            if rp_zt_OLD_ws != ranked_pairs_zt_ws: \n",
    "                print(\"FOUND A DIFFERENCE\")\n",
    "                print(prof)\n",
    "                print(prof._rankings[0])\n",
    "                prof.display_margin_graph()\n",
    "                print(\"OLD RP ZT\", rp_zt_OLD_ws)\n",
    "                print(\"Current RP ZT\", ranked_pairs_zt_ws)\n",
    "                break"
   ]
  },
  {
   "cell_type": "code",
   "execution_count": 11,
   "metadata": {},
   "outputs": [
    {
     "data": {
      "application/vnd.jupyter.widget-view+json": {
       "model_id": "a743a1fb2d614152aaf903d01b8b491b",
       "version_major": 2,
       "version_minor": 0
      },
      "text/plain": [
       "  0%|          | 0/100000 [00:00<?, ?it/s]"
      ]
     },
     "metadata": {},
     "output_type": "display_data"
    },
    {
     "data": {
      "application/vnd.jupyter.widget-view+json": {
       "model_id": "28349ca7434e453990ecec9e86e583c7",
       "version_major": 2,
       "version_minor": 0
      },
      "text/plain": [
       "  0%|          | 0/100000 [00:00<?, ?it/s]"
      ]
     },
     "metadata": {},
     "output_type": "display_data"
    },
    {
     "data": {
      "application/vnd.jupyter.widget-view+json": {
       "model_id": "4e194b86cadb4668a941d7e7ced1e5a3",
       "version_major": 2,
       "version_minor": 0
      },
      "text/plain": [
       "  0%|          | 0/100000 [00:00<?, ?it/s]"
      ]
     },
     "metadata": {},
     "output_type": "display_data"
    },
    {
     "data": {
      "application/vnd.jupyter.widget-view+json": {
       "model_id": "75e5d04e283949368e8909e60c428ef5",
       "version_major": 2,
       "version_minor": 0
      },
      "text/plain": [
       "  0%|          | 0/100000 [00:00<?, ?it/s]"
      ]
     },
     "metadata": {},
     "output_type": "display_data"
    },
    {
     "data": {
      "application/vnd.jupyter.widget-view+json": {
       "model_id": "1f5eabb4c06c41e6ad2b0340730ab5e1",
       "version_major": 2,
       "version_minor": 0
      },
      "text/plain": [
       "  0%|          | 0/100000 [00:00<?, ?it/s]"
      ]
     },
     "metadata": {},
     "output_type": "display_data"
    },
    {
     "data": {
      "application/vnd.jupyter.widget-view+json": {
       "model_id": "8cefea4593b54f58a6ea69c4e49cf86f",
       "version_major": 2,
       "version_minor": 0
      },
      "text/plain": [
       "  0%|          | 0/100000 [00:00<?, ?it/s]"
      ]
     },
     "metadata": {},
     "output_type": "display_data"
    },
    {
     "data": {
      "application/vnd.jupyter.widget-view+json": {
       "model_id": "6722669bf2394a71a06882617e0432a0",
       "version_major": 2,
       "version_minor": 0
      },
      "text/plain": [
       "  0%|          | 0/100000 [00:00<?, ?it/s]"
      ]
     },
     "metadata": {},
     "output_type": "display_data"
    },
    {
     "data": {
      "application/vnd.jupyter.widget-view+json": {
       "model_id": "79b96d6a478b4386833eabc7f085df96",
       "version_major": 2,
       "version_minor": 0
      },
      "text/plain": [
       "  0%|          | 0/100000 [00:00<?, ?it/s]"
      ]
     },
     "metadata": {},
     "output_type": "display_data"
    }
   ],
   "source": [
    "all_num_cands = [3, 4, 5, 6]\n",
    "all_num_voters = [10, 100]\n",
    "num_trials = 100_000\n",
    "\n",
    "for num_cands in all_num_cands:\n",
    "    for num_voters in all_num_voters:\n",
    "        for t in tqdm(range(num_trials)): \n",
    "\n",
    "            prof = generate_profile(num_cands, num_voters)\n",
    "            river_zt_OLD_ws = river_zt_OLD(prof)\n",
    "            river_zt_ws = river_zt(prof)\n",
    "\n",
    "            if river_zt_OLD_ws != river_zt_ws: \n",
    "                print(\"FOUND A DIFFERENCE\")\n",
    "                print(prof)\n",
    "                print(prof._rankings[0])\n",
    "                prof.display_margin_graph()\n",
    "                print(\"OLD RP ZT\", river_zt_OLD_ws)\n",
    "                print(\"Current RP ZT\", river_zt_ws)\n",
    "                break"
   ]
  },
  {
   "cell_type": "code",
   "execution_count": null,
   "metadata": {},
   "outputs": [],
   "source": []
  },
  {
   "cell_type": "code",
   "execution_count": null,
   "metadata": {},
   "outputs": [],
   "source": []
  }
 ],
 "metadata": {
  "kernelspec": {
   "display_name": "Python 3",
   "language": "python",
   "name": "python3"
  },
  "language_info": {
   "codemirror_mode": {
    "name": "ipython",
    "version": 3
   },
   "file_extension": ".py",
   "mimetype": "text/x-python",
   "name": "python",
   "nbconvert_exporter": "python",
   "pygments_lexer": "ipython3",
   "version": "3.11.6"
  }
 },
 "nbformat": 4,
 "nbformat_minor": 2
}
