{
 "cells": [
  {
   "cell_type": "code",
   "execution_count": 1,
   "metadata": {},
   "outputs": [],
   "source": [
    "from pref_voting.dominance_axioms import condorcet_winner, condorcet_loser, pareto_dominance\n",
    "\n",
    "from pref_voting.voting_methods import *\n",
    "from pref_voting.generate_profiles import *\n",
    "from pref_voting.voting_methods_registry import voting_methods\n",
    "from pref_voting.generate_weighted_majority_graphs import *\n",
    "from pref_voting.probabilistic_methods import *\n",
    "from pref_voting.helper import *\n",
    "from pref_voting.mappings import *  \n",
    "from tqdm.notebook import tqdm\n",
    "from pref_voting.axioms import *\n",
    "import pickle"
   ]
  },
  {
   "cell_type": "code",
   "execution_count": 2,
   "metadata": {},
   "outputs": [
    {
     "name": "stdout",
     "output_type": "stream",
     "text": [
      "[0.3 0.  0.4 0.3]\n"
     ]
    }
   ],
   "source": [
    "def clean_and_normalize(probs, threshold=1e-10):\n",
    "    # Set  negative or small positive values to zero\n",
    "    probs = np.where(probs < threshold, 0, probs)\n",
    "    \n",
    "    # Renormalize to ensure the probabilities sum to 1\n",
    "    total = np.sum(probs)\n",
    "    if total > 0:\n",
    "        probs /= total\n",
    "    return probs\n",
    "\n",
    "# Example usage\n",
    "prob_dist = np.array([0.3, 1e-12, 0.4, 0.3])\n",
    "cleaned_prob_dist = clean_and_normalize(prob_dist)\n",
    "print(cleaned_prob_dist)"
   ]
  },
  {
   "cell_type": "code",
   "execution_count": null,
   "metadata": {},
   "outputs": [],
   "source": []
  },
  {
   "cell_type": "code",
   "execution_count": 4,
   "metadata": {},
   "outputs": [
    {
     "name": "stdout",
     "output_type": "stream",
     "text": [
      "1.0\n"
     ]
    }
   ],
   "source": [
    "num_trials = 1000\n",
    "\n",
    "num_cands = 3\n",
    "num_voters = 6\n",
    "num_agree = 0\n",
    "for t in range(num_trials): \n",
    "    prof = generate_profile(num_cands, num_voters)\n",
    "    #ml_pr = maximal_lottery(prof)    \n",
    "    ml_enum = maximal_lottery(prof)\n",
    "    ml_enum_rounded = {c: round(ml_enum[c], 2) for c in ml_enum.keys()}\n",
    "    ml_lp = maximal_lottery(prof, algorithm='lp')\n",
    "    ml_lp_rounded = {c: round(ml_lp[c], 2) for c in ml_lp.keys()}\n",
    "\n",
    "    if ml_enum_rounded == ml_lp_rounded: \n",
    "        num_agree += 1\n",
    "    else: \n",
    "        print(\"ml_enum\", ml_enum)\n",
    "        print(\"ml_lp\", ml_lp)\n",
    "        print()\n",
    "    # if ml_pr != ml_pr2:\n",
    "    #     prof.display_margin_graph()\n",
    "    #     print(\"ml_pr\", ml_pr)\n",
    "    #     print(\"ml_pr2\", ml_pr2)\n",
    "print(num_agree/num_trials)"
   ]
  },
  {
   "cell_type": "code",
   "execution_count": null,
   "metadata": {},
   "outputs": [],
   "source": []
  }
 ],
 "metadata": {
  "kernelspec": {
   "display_name": "Python 3",
   "language": "python",
   "name": "python3"
  },
  "language_info": {
   "codemirror_mode": {
    "name": "ipython",
    "version": 3
   },
   "file_extension": ".py",
   "mimetype": "text/x-python",
   "name": "python",
   "nbconvert_exporter": "python",
   "pygments_lexer": "ipython3",
   "version": "3.12.7"
  }
 },
 "nbformat": 4,
 "nbformat_minor": 2
}
