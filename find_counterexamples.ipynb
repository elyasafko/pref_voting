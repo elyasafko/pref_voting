{
 "cells": [
  {
   "cell_type": "code",
   "execution_count": 5,
   "metadata": {},
   "outputs": [],
   "source": [
    "from pref_voting.dominance_axioms import condorcet_winner, condorcet_loser, pareto_dominance\n",
    "\n",
    "from pref_voting.voting_methods import *\n",
    "from pref_voting.generate_profiles import *\n",
    "from pref_voting.voting_methods_registry import voting_methods\n",
    "from pref_voting.generate_weighted_majority_graphs import *\n",
    "from pref_voting.helper import *\n",
    "from pref_voting.mappings import *  \n",
    "from tqdm.notebook import tqdm\n",
    "from pref_voting.axioms import *\n",
    "import pickle"
   ]
  },
  {
   "cell_type": "code",
   "execution_count": 6,
   "metadata": {},
   "outputs": [
    {
     "name": "stdout",
     "output_type": "stream",
     "text": [
      "19\n",
      "Anti-Plurality\n",
      "Borda\n",
      "Dowdall\n",
      "Plurality\n",
      "Positive-Negative Voting\n",
      "Coombs\n",
      "Coombs PUT\n",
      "Coombs TB\n",
      "Instant Runoff\n",
      "Instant Runoff PUT\n",
      "Instant Runoff TB\n",
      "Iterated Removal Condorcet Loser\n",
      "PluralityWRunoff PUT\n",
      "Bracket Voting\n",
      "Bucklin\n",
      "Pareto\n",
      "Simplified Bucklin\n",
      "Superior Voting\n",
      "Weighted Bucklin\n"
     ]
    }
   ],
   "source": [
    "cw_vms = voting_methods.filter(violates=[\"condorcet_winner\"], election_types=[ElectionTypes.PROFILE])\n",
    "\n",
    "print(len(cw_vms))\n",
    "for vm in cw_vms: \n",
    "    print(vm)"
   ]
  },
  {
   "cell_type": "code",
   "execution_count": 7,
   "metadata": {},
   "outputs": [
    {
     "name": "stdout",
     "output_type": "stream",
     "text": [
      "Anti-Plurality\n",
      "Skipping Anti-Plurality because ./pref_voting/data/examples/condorcet_winner/minimal_resolute_Anti-Plurality.soc already exists\n",
      "Borda\n",
      "Skipping Borda because ./pref_voting/data/examples/condorcet_winner/minimal_resolute_Borda.soc already exists\n",
      "Dowdall\n",
      "Skipping Dowdall because ./pref_voting/data/examples/condorcet_winner/minimal_resolute_Dowdall.soc already exists\n",
      "Plurality\n",
      "Skipping Plurality because ./pref_voting/data/examples/condorcet_winner/minimal_resolute_Plurality.soc already exists\n",
      "Positive-Negative Voting\n",
      "Skipping Positive-Negative Voting because ./pref_voting/data/examples/condorcet_winner/minimal_resolute_Positive-Negative_Voting.soc already exists\n",
      "Coombs\n",
      "Skipping Coombs because ./pref_voting/data/examples/condorcet_winner/minimal_resolute_Coombs.soc already exists\n",
      "Coombs PUT\n",
      "Skipping Coombs PUT because ./pref_voting/data/examples/condorcet_winner/minimal_resolute_Coombs_PUT.soc already exists\n",
      "Coombs TB\n",
      "Skipping Coombs TB because ./pref_voting/data/examples/condorcet_winner/minimal_resolute_Coombs_TB.soc already exists\n",
      "Instant Runoff\n",
      "Skipping Instant Runoff because ./pref_voting/data/examples/condorcet_winner/minimal_resolute_Instant_Runoff.soc already exists\n",
      "Instant Runoff PUT\n",
      "Skipping Instant Runoff PUT because ./pref_voting/data/examples/condorcet_winner/minimal_resolute_Instant_Runoff_PUT.soc already exists\n",
      "Instant Runoff TB\n",
      "Skipping Instant Runoff TB because ./pref_voting/data/examples/condorcet_winner/minimal_resolute_Instant_Runoff_TB.soc already exists\n",
      "PluralityWRunoff PUT\n",
      "Skipping PluralityWRunoff PUT because ./pref_voting/data/examples/condorcet_winner/minimal_resolute_PluralityWRunoff_PUT.soc already exists\n",
      "Bracket Voting\n",
      "Skipping Bracket Voting because ./pref_voting/data/examples/condorcet_winner/minimal_resolute_Bracket_Voting.soc already exists\n",
      "Bucklin\n",
      "Skipping Bucklin because ./pref_voting/data/examples/condorcet_winner/minimal_resolute_Bucklin.soc already exists\n",
      "Simplified Bucklin\n",
      "Skipping Simplified Bucklin because ./pref_voting/data/examples/condorcet_winner/minimal_resolute_Simplified_Bucklin.soc already exists\n",
      "Weighted Bucklin\n"
     ]
    },
    {
     "data": {
      "application/vnd.jupyter.widget-view+json": {
       "model_id": "53f6ea123ff444798c0db0116548082a",
       "version_major": 2,
       "version_minor": 0
      },
      "text/plain": [
       "  0%|          | 0/3 [00:00<?, ?it/s]"
      ]
     },
     "metadata": {},
     "output_type": "display_data"
    },
    {
     "data": {
      "application/vnd.jupyter.widget-view+json": {
       "model_id": "d5e1bbe740484d779c0ae2804c060de6",
       "version_major": 2,
       "version_minor": 0
      },
      "text/plain": [
       "  0%|          | 0/8 [00:00<?, ?it/s]"
      ]
     },
     "metadata": {},
     "output_type": "display_data"
    },
    {
     "name": "stdout",
     "output_type": "stream",
     "text": [
      "Found a profile that violates condorcet_winner for Weighted Bucklin with 3 candidates and 7 voters\n",
      "Election written to ./pref_voting/data/examples/condorcet_winner/minimal_resolute_Weighted_Bucklin.soc.\n"
     ]
    }
   ],
   "source": [
    "all_num_cands = [3, 4, 5]\n",
    "all_num_voters = [2, 3, 4, 5, 6, 7, 8, 9]\n",
    "axiom = \"condorcet_winner\"\n",
    "axiom_params = {\n",
    "    \"only_resolute\": True,\n",
    "}\n",
    "vms_to_skip = [iterated_removal_cl, pareto, superior_voting]\n",
    "ax = axioms_dict[axiom]\n",
    "for vm in cw_vms:\n",
    "    if vm in vms_to_skip:\n",
    "        continue\n",
    "    print(vm)\n",
    "    found_it = False\n",
    "    vm_name = vm.name.replace(\" \", \"_\")\n",
    "    filename= f\"./pref_voting/data/examples/{axiom}/minimal_resolute_{vm_name}.soc\"\n",
    "\n",
    "    if os.path.exists(filename):\n",
    "        print(f\"Skipping {vm} because {filename} already exists\")\n",
    "        continue\n",
    "    for num_cands in tqdm(all_num_cands): \n",
    "        for num_voters in tqdm(all_num_voters): \n",
    "            for _prof in enumerate_anon_profile(num_cands, num_voters): \n",
    "                prof = _prof.anonymize()\n",
    "                if ax.has_violation(prof, vm, **axiom_params): \n",
    "                    print(f\"Found a profile that violates {axiom} for {vm} with {num_cands} candidates and {num_voters} voters\") \n",
    "                    # remove spaces in vm name\n",
    "                    vm_name = vm.name.replace(\" \", \"_\")\n",
    "                    filename= f\"./pref_voting/data/examples/{axiom}/minimal_resolute_{vm_name}.soc\"\n",
    "                    prof.write(filename)\n",
    "                    found_it = True\n",
    "                    break\n",
    "            if found_it:\n",
    "                break\n",
    "        if found_it:\n",
    "            break\n"
   ]
  },
  {
   "cell_type": "code",
   "execution_count": 8,
   "metadata": {},
   "outputs": [
    {
     "name": "stdout",
     "output_type": "stream",
     "text": [
      "Anti-Plurality\n"
     ]
    },
    {
     "data": {
      "application/vnd.jupyter.widget-view+json": {
       "model_id": "1ca9f2c8cc8e47ada43080c9fc05e735",
       "version_major": 2,
       "version_minor": 0
      },
      "text/plain": [
       "  0%|          | 0/3 [00:00<?, ?it/s]"
      ]
     },
     "metadata": {},
     "output_type": "display_data"
    },
    {
     "data": {
      "application/vnd.jupyter.widget-view+json": {
       "model_id": "ecff50cce958443ba042bf71717c7134",
       "version_major": 2,
       "version_minor": 0
      },
      "text/plain": [
       "  0%|          | 0/8 [00:00<?, ?it/s]"
      ]
     },
     "metadata": {},
     "output_type": "display_data"
    },
    {
     "name": "stdout",
     "output_type": "stream",
     "text": [
      "Found a profile that violates condorcet_winner for Anti-Plurality with 3 candidates and 2 voters\n",
      "Election written to ./pref_voting/data/examples/condorcet_winner/minimal_Anti-Plurality.soc.\n",
      "Borda\n"
     ]
    },
    {
     "data": {
      "application/vnd.jupyter.widget-view+json": {
       "model_id": "69b81289dc364692ab81a3f683968d45",
       "version_major": 2,
       "version_minor": 0
      },
      "text/plain": [
       "  0%|          | 0/3 [00:00<?, ?it/s]"
      ]
     },
     "metadata": {},
     "output_type": "display_data"
    },
    {
     "data": {
      "application/vnd.jupyter.widget-view+json": {
       "model_id": "fe73d12fbcd84a36be8a101afe01a730",
       "version_major": 2,
       "version_minor": 0
      },
      "text/plain": [
       "  0%|          | 0/8 [00:00<?, ?it/s]"
      ]
     },
     "metadata": {},
     "output_type": "display_data"
    },
    {
     "name": "stdout",
     "output_type": "stream",
     "text": [
      "Found a profile that violates condorcet_winner for Borda with 3 candidates and 3 voters\n",
      "Election written to ./pref_voting/data/examples/condorcet_winner/minimal_Borda.soc.\n",
      "Dowdall\n"
     ]
    },
    {
     "data": {
      "application/vnd.jupyter.widget-view+json": {
       "model_id": "741bb1f4b4374db5af49dfd5fa24c8ca",
       "version_major": 2,
       "version_minor": 0
      },
      "text/plain": [
       "  0%|          | 0/3 [00:00<?, ?it/s]"
      ]
     },
     "metadata": {},
     "output_type": "display_data"
    },
    {
     "data": {
      "application/vnd.jupyter.widget-view+json": {
       "model_id": "003af675d2f44bebad07e76b69004d0f",
       "version_major": 2,
       "version_minor": 0
      },
      "text/plain": [
       "  0%|          | 0/8 [00:00<?, ?it/s]"
      ]
     },
     "metadata": {},
     "output_type": "display_data"
    },
    {
     "name": "stdout",
     "output_type": "stream",
     "text": [
      "Found a profile that violates condorcet_winner for Dowdall with 3 candidates and 5 voters\n",
      "Election written to ./pref_voting/data/examples/condorcet_winner/minimal_Dowdall.soc.\n",
      "Plurality\n"
     ]
    },
    {
     "data": {
      "application/vnd.jupyter.widget-view+json": {
       "model_id": "306a36f7e98b453592189aaf57ef66fc",
       "version_major": 2,
       "version_minor": 0
      },
      "text/plain": [
       "  0%|          | 0/3 [00:00<?, ?it/s]"
      ]
     },
     "metadata": {},
     "output_type": "display_data"
    },
    {
     "data": {
      "application/vnd.jupyter.widget-view+json": {
       "model_id": "179a5f660a5242a18dee9db3805f126d",
       "version_major": 2,
       "version_minor": 0
      },
      "text/plain": [
       "  0%|          | 0/8 [00:00<?, ?it/s]"
      ]
     },
     "metadata": {},
     "output_type": "display_data"
    },
    {
     "name": "stdout",
     "output_type": "stream",
     "text": [
      "Found a profile that violates condorcet_winner for Plurality with 3 candidates and 3 voters\n",
      "Election written to ./pref_voting/data/examples/condorcet_winner/minimal_Plurality.soc.\n",
      "Positive-Negative Voting\n"
     ]
    },
    {
     "data": {
      "application/vnd.jupyter.widget-view+json": {
       "model_id": "c310760f7a6a41f78ff72acdcd65725e",
       "version_major": 2,
       "version_minor": 0
      },
      "text/plain": [
       "  0%|          | 0/3 [00:00<?, ?it/s]"
      ]
     },
     "metadata": {},
     "output_type": "display_data"
    },
    {
     "data": {
      "application/vnd.jupyter.widget-view+json": {
       "model_id": "c4594c1fddb54d22974085ab6b13a98c",
       "version_major": 2,
       "version_minor": 0
      },
      "text/plain": [
       "  0%|          | 0/8 [00:00<?, ?it/s]"
      ]
     },
     "metadata": {},
     "output_type": "display_data"
    },
    {
     "name": "stdout",
     "output_type": "stream",
     "text": [
      "Found a profile that violates condorcet_winner for Positive-Negative Voting with 3 candidates and 3 voters\n",
      "Election written to ./pref_voting/data/examples/condorcet_winner/minimal_Positive-Negative_Voting.soc.\n",
      "Coombs\n"
     ]
    },
    {
     "data": {
      "application/vnd.jupyter.widget-view+json": {
       "model_id": "3aee02a46c9b43c1a5437477834cb5cf",
       "version_major": 2,
       "version_minor": 0
      },
      "text/plain": [
       "  0%|          | 0/3 [00:00<?, ?it/s]"
      ]
     },
     "metadata": {},
     "output_type": "display_data"
    },
    {
     "data": {
      "application/vnd.jupyter.widget-view+json": {
       "model_id": "d8590fc7c4a44f7680fc4ef143c76bb1",
       "version_major": 2,
       "version_minor": 0
      },
      "text/plain": [
       "  0%|          | 0/8 [00:00<?, ?it/s]"
      ]
     },
     "metadata": {},
     "output_type": "display_data"
    },
    {
     "name": "stdout",
     "output_type": "stream",
     "text": [
      "Found a profile that violates condorcet_winner for Coombs with 3 candidates and 9 voters\n",
      "Election written to ./pref_voting/data/examples/condorcet_winner/minimal_Coombs.soc.\n",
      "Coombs PUT\n"
     ]
    },
    {
     "data": {
      "application/vnd.jupyter.widget-view+json": {
       "model_id": "eee44fa593b24044b73f86b2a0743cde",
       "version_major": 2,
       "version_minor": 0
      },
      "text/plain": [
       "  0%|          | 0/3 [00:00<?, ?it/s]"
      ]
     },
     "metadata": {},
     "output_type": "display_data"
    },
    {
     "data": {
      "application/vnd.jupyter.widget-view+json": {
       "model_id": "2f7adf11e5a447b2ac421e3b593a1c7e",
       "version_major": 2,
       "version_minor": 0
      },
      "text/plain": [
       "  0%|          | 0/8 [00:00<?, ?it/s]"
      ]
     },
     "metadata": {},
     "output_type": "display_data"
    },
    {
     "name": "stdout",
     "output_type": "stream",
     "text": [
      "Found a profile that violates condorcet_winner for Coombs PUT with 3 candidates and 9 voters\n",
      "Election written to ./pref_voting/data/examples/condorcet_winner/minimal_Coombs_PUT.soc.\n",
      "Coombs TB\n"
     ]
    },
    {
     "data": {
      "application/vnd.jupyter.widget-view+json": {
       "model_id": "94350bbc950c4a2485503b80489ac8fa",
       "version_major": 2,
       "version_minor": 0
      },
      "text/plain": [
       "  0%|          | 0/3 [00:00<?, ?it/s]"
      ]
     },
     "metadata": {},
     "output_type": "display_data"
    },
    {
     "data": {
      "application/vnd.jupyter.widget-view+json": {
       "model_id": "fffc4f0d2f604969b44c2ef8d9441ff1",
       "version_major": 2,
       "version_minor": 0
      },
      "text/plain": [
       "  0%|          | 0/8 [00:00<?, ?it/s]"
      ]
     },
     "metadata": {},
     "output_type": "display_data"
    },
    {
     "name": "stdout",
     "output_type": "stream",
     "text": [
      "Found a profile that violates condorcet_winner for Coombs TB with 3 candidates and 9 voters\n",
      "Election written to ./pref_voting/data/examples/condorcet_winner/minimal_Coombs_TB.soc.\n",
      "Instant Runoff\n"
     ]
    },
    {
     "data": {
      "application/vnd.jupyter.widget-view+json": {
       "model_id": "750fe40396484a00930ad8e5e625501d",
       "version_major": 2,
       "version_minor": 0
      },
      "text/plain": [
       "  0%|          | 0/3 [00:00<?, ?it/s]"
      ]
     },
     "metadata": {},
     "output_type": "display_data"
    },
    {
     "data": {
      "application/vnd.jupyter.widget-view+json": {
       "model_id": "5bce80d85f4b4f638d705f92bf945f29",
       "version_major": 2,
       "version_minor": 0
      },
      "text/plain": [
       "  0%|          | 0/8 [00:00<?, ?it/s]"
      ]
     },
     "metadata": {},
     "output_type": "display_data"
    },
    {
     "name": "stdout",
     "output_type": "stream",
     "text": [
      "Found a profile that violates condorcet_winner for Instant Runoff with 3 candidates and 3 voters\n",
      "Election written to ./pref_voting/data/examples/condorcet_winner/minimal_Instant_Runoff.soc.\n",
      "Instant Runoff PUT\n"
     ]
    },
    {
     "data": {
      "application/vnd.jupyter.widget-view+json": {
       "model_id": "5ceb86920d554cf49c5d589ba6858036",
       "version_major": 2,
       "version_minor": 0
      },
      "text/plain": [
       "  0%|          | 0/3 [00:00<?, ?it/s]"
      ]
     },
     "metadata": {},
     "output_type": "display_data"
    },
    {
     "data": {
      "application/vnd.jupyter.widget-view+json": {
       "model_id": "9c582b58501d4c8da79a51eed03b03f0",
       "version_major": 2,
       "version_minor": 0
      },
      "text/plain": [
       "  0%|          | 0/8 [00:00<?, ?it/s]"
      ]
     },
     "metadata": {},
     "output_type": "display_data"
    },
    {
     "name": "stdout",
     "output_type": "stream",
     "text": [
      "Found a profile that violates condorcet_winner for Instant Runoff PUT with 3 candidates and 3 voters\n",
      "Election written to ./pref_voting/data/examples/condorcet_winner/minimal_Instant_Runoff_PUT.soc.\n",
      "Instant Runoff TB\n"
     ]
    },
    {
     "data": {
      "application/vnd.jupyter.widget-view+json": {
       "model_id": "93a393a1b92c407bb082e960d5c99fd6",
       "version_major": 2,
       "version_minor": 0
      },
      "text/plain": [
       "  0%|          | 0/3 [00:00<?, ?it/s]"
      ]
     },
     "metadata": {},
     "output_type": "display_data"
    },
    {
     "data": {
      "application/vnd.jupyter.widget-view+json": {
       "model_id": "596d7ef079c64fef8144b3b476d25b71",
       "version_major": 2,
       "version_minor": 0
      },
      "text/plain": [
       "  0%|          | 0/8 [00:00<?, ?it/s]"
      ]
     },
     "metadata": {},
     "output_type": "display_data"
    },
    {
     "name": "stdout",
     "output_type": "stream",
     "text": [
      "Found a profile that violates condorcet_winner for Instant Runoff TB with 3 candidates and 3 voters\n",
      "Election written to ./pref_voting/data/examples/condorcet_winner/minimal_Instant_Runoff_TB.soc.\n",
      "Iterated Removal Condorcet Loser\n"
     ]
    },
    {
     "data": {
      "application/vnd.jupyter.widget-view+json": {
       "model_id": "bae203eddfda4242bc8fdb520d115157",
       "version_major": 2,
       "version_minor": 0
      },
      "text/plain": [
       "  0%|          | 0/3 [00:00<?, ?it/s]"
      ]
     },
     "metadata": {},
     "output_type": "display_data"
    },
    {
     "data": {
      "application/vnd.jupyter.widget-view+json": {
       "model_id": "e5d5b2f070664beeacbc1f00702eed15",
       "version_major": 2,
       "version_minor": 0
      },
      "text/plain": [
       "  0%|          | 0/8 [00:00<?, ?it/s]"
      ]
     },
     "metadata": {},
     "output_type": "display_data"
    },
    {
     "name": "stdout",
     "output_type": "stream",
     "text": [
      "Found a profile that violates condorcet_winner for Iterated Removal Condorcet Loser with 3 candidates and 2 voters\n",
      "Election written to ./pref_voting/data/examples/condorcet_winner/minimal_Iterated_Removal_Condorcet_Loser.soc.\n",
      "PluralityWRunoff PUT\n"
     ]
    },
    {
     "data": {
      "application/vnd.jupyter.widget-view+json": {
       "model_id": "703c59e9fdb44e58ae16a450d91346fa",
       "version_major": 2,
       "version_minor": 0
      },
      "text/plain": [
       "  0%|          | 0/3 [00:00<?, ?it/s]"
      ]
     },
     "metadata": {},
     "output_type": "display_data"
    },
    {
     "data": {
      "application/vnd.jupyter.widget-view+json": {
       "model_id": "f1266a68471e4dec8a470ac839fa5792",
       "version_major": 2,
       "version_minor": 0
      },
      "text/plain": [
       "  0%|          | 0/8 [00:00<?, ?it/s]"
      ]
     },
     "metadata": {},
     "output_type": "display_data"
    },
    {
     "name": "stdout",
     "output_type": "stream",
     "text": [
      "Found a profile that violates condorcet_winner for PluralityWRunoff PUT with 3 candidates and 3 voters\n",
      "Election written to ./pref_voting/data/examples/condorcet_winner/minimal_PluralityWRunoff_PUT.soc.\n",
      "Bracket Voting\n"
     ]
    },
    {
     "data": {
      "application/vnd.jupyter.widget-view+json": {
       "model_id": "6e4792b28efb4ef592e6837fbb1ca159",
       "version_major": 2,
       "version_minor": 0
      },
      "text/plain": [
       "  0%|          | 0/3 [00:00<?, ?it/s]"
      ]
     },
     "metadata": {},
     "output_type": "display_data"
    },
    {
     "data": {
      "application/vnd.jupyter.widget-view+json": {
       "model_id": "49176b3f80db40e1b891e35b0fb34677",
       "version_major": 2,
       "version_minor": 0
      },
      "text/plain": [
       "  0%|          | 0/8 [00:00<?, ?it/s]"
      ]
     },
     "metadata": {},
     "output_type": "display_data"
    },
    {
     "data": {
      "application/vnd.jupyter.widget-view+json": {
       "model_id": "d562aff0f33c4645b6dcab24f165803e",
       "version_major": 2,
       "version_minor": 0
      },
      "text/plain": [
       "  0%|          | 0/8 [00:00<?, ?it/s]"
      ]
     },
     "metadata": {},
     "output_type": "display_data"
    },
    {
     "data": {
      "application/vnd.jupyter.widget-view+json": {
       "model_id": "313732c23697482f9834c29f65cd4e92",
       "version_major": 2,
       "version_minor": 0
      },
      "text/plain": [
       "  0%|          | 0/8 [00:00<?, ?it/s]"
      ]
     },
     "metadata": {},
     "output_type": "display_data"
    },
    {
     "name": "stdout",
     "output_type": "stream",
     "text": [
      "Found a profile that violates condorcet_winner for Bracket Voting with 5 candidates and 3 voters\n",
      "Election written to ./pref_voting/data/examples/condorcet_winner/minimal_Bracket_Voting.soc.\n",
      "Bucklin\n"
     ]
    },
    {
     "data": {
      "application/vnd.jupyter.widget-view+json": {
       "model_id": "6e806b54c4854268af4fafeaa88e773c",
       "version_major": 2,
       "version_minor": 0
      },
      "text/plain": [
       "  0%|          | 0/3 [00:00<?, ?it/s]"
      ]
     },
     "metadata": {},
     "output_type": "display_data"
    },
    {
     "data": {
      "application/vnd.jupyter.widget-view+json": {
       "model_id": "83bec2e255414f789567f7be9dcb8abe",
       "version_major": 2,
       "version_minor": 0
      },
      "text/plain": [
       "  0%|          | 0/8 [00:00<?, ?it/s]"
      ]
     },
     "metadata": {},
     "output_type": "display_data"
    },
    {
     "name": "stdout",
     "output_type": "stream",
     "text": [
      "Found a profile that violates condorcet_winner for Bucklin with 3 candidates and 5 voters\n",
      "Election written to ./pref_voting/data/examples/condorcet_winner/minimal_Bucklin.soc.\n",
      "Pareto\n"
     ]
    },
    {
     "data": {
      "application/vnd.jupyter.widget-view+json": {
       "model_id": "3b68db8228a441739256894f31cb73ce",
       "version_major": 2,
       "version_minor": 0
      },
      "text/plain": [
       "  0%|          | 0/3 [00:00<?, ?it/s]"
      ]
     },
     "metadata": {},
     "output_type": "display_data"
    },
    {
     "data": {
      "application/vnd.jupyter.widget-view+json": {
       "model_id": "c89495164765489789fcaf01620983df",
       "version_major": 2,
       "version_minor": 0
      },
      "text/plain": [
       "  0%|          | 0/8 [00:00<?, ?it/s]"
      ]
     },
     "metadata": {},
     "output_type": "display_data"
    },
    {
     "name": "stdout",
     "output_type": "stream",
     "text": [
      "Found a profile that violates condorcet_winner for Pareto with 3 candidates and 3 voters\n",
      "Election written to ./pref_voting/data/examples/condorcet_winner/minimal_Pareto.soc.\n",
      "Simplified Bucklin\n"
     ]
    },
    {
     "data": {
      "application/vnd.jupyter.widget-view+json": {
       "model_id": "6d5ab074047a4e7fa0c4270f6d4dd4bf",
       "version_major": 2,
       "version_minor": 0
      },
      "text/plain": [
       "  0%|          | 0/3 [00:00<?, ?it/s]"
      ]
     },
     "metadata": {},
     "output_type": "display_data"
    },
    {
     "data": {
      "application/vnd.jupyter.widget-view+json": {
       "model_id": "2e2c11e3064341939324b07ef29cd2d6",
       "version_major": 2,
       "version_minor": 0
      },
      "text/plain": [
       "  0%|          | 0/8 [00:00<?, ?it/s]"
      ]
     },
     "metadata": {},
     "output_type": "display_data"
    },
    {
     "name": "stdout",
     "output_type": "stream",
     "text": [
      "Found a profile that violates condorcet_winner for Simplified Bucklin with 3 candidates and 3 voters\n",
      "Election written to ./pref_voting/data/examples/condorcet_winner/minimal_Simplified_Bucklin.soc.\n",
      "Superior Voting\n"
     ]
    },
    {
     "data": {
      "application/vnd.jupyter.widget-view+json": {
       "model_id": "e5c820b5347b4ed69f1d53543177ea86",
       "version_major": 2,
       "version_minor": 0
      },
      "text/plain": [
       "  0%|          | 0/3 [00:00<?, ?it/s]"
      ]
     },
     "metadata": {},
     "output_type": "display_data"
    },
    {
     "data": {
      "application/vnd.jupyter.widget-view+json": {
       "model_id": "cb5bd0da27204d359e52418587023ac0",
       "version_major": 2,
       "version_minor": 0
      },
      "text/plain": [
       "  0%|          | 0/8 [00:00<?, ?it/s]"
      ]
     },
     "metadata": {},
     "output_type": "display_data"
    },
    {
     "data": {
      "application/vnd.jupyter.widget-view+json": {
       "model_id": "c08607fc26654c72bea94d8f9f6086ff",
       "version_major": 2,
       "version_minor": 0
      },
      "text/plain": [
       "  0%|          | 0/8 [00:00<?, ?it/s]"
      ]
     },
     "metadata": {},
     "output_type": "display_data"
    },
    {
     "name": "stdout",
     "output_type": "stream",
     "text": [
      "Found a profile that violates condorcet_winner for Superior Voting with 4 candidates and 3 voters\n",
      "Election written to ./pref_voting/data/examples/condorcet_winner/minimal_Superior_Voting.soc.\n",
      "Weighted Bucklin\n"
     ]
    },
    {
     "data": {
      "application/vnd.jupyter.widget-view+json": {
       "model_id": "59db4e887bf4419c8344ca36ff111323",
       "version_major": 2,
       "version_minor": 0
      },
      "text/plain": [
       "  0%|          | 0/3 [00:00<?, ?it/s]"
      ]
     },
     "metadata": {},
     "output_type": "display_data"
    },
    {
     "data": {
      "application/vnd.jupyter.widget-view+json": {
       "model_id": "1097412c0a404f89b3f367351f61fde5",
       "version_major": 2,
       "version_minor": 0
      },
      "text/plain": [
       "  0%|          | 0/8 [00:00<?, ?it/s]"
      ]
     },
     "metadata": {},
     "output_type": "display_data"
    },
    {
     "name": "stdout",
     "output_type": "stream",
     "text": [
      "Found a profile that violates condorcet_winner for Weighted Bucklin with 3 candidates and 5 voters\n",
      "Election written to ./pref_voting/data/examples/condorcet_winner/minimal_Weighted_Bucklin.soc.\n"
     ]
    }
   ],
   "source": [
    "all_num_cands = [3, 4, 5]\n",
    "all_num_voters = [2, 3, 4, 5, 6, 7, 8, 9]\n",
    "axiom = \"condorcet_winner\"\n",
    "axiom_params = {\n",
    "    \"only_resolute\": False,\n",
    "}\n",
    "vms_to_skip = []\n",
    "ax = axioms_dict[axiom]\n",
    "for vm in cw_vms:\n",
    "    if vm in vms_to_skip:\n",
    "        continue\n",
    "    print(vm)\n",
    "    found_it = False\n",
    "    for num_cands in tqdm(all_num_cands): \n",
    "        for num_voters in tqdm(all_num_voters): \n",
    "            for _prof in enumerate_anon_profile(num_cands, num_voters): \n",
    "                prof = _prof.anonymize()\n",
    "                if ax.has_violation(prof, vm, **axiom_params): \n",
    "                    print(f\"Found a profile that violates {axiom} for {vm} with {num_cands} candidates and {num_voters} voters\") \n",
    "                    # remove spaces in vm name\n",
    "                    vm_name = vm.name.replace(\" \", \"_\")\n",
    "                    filename= f\"./pref_voting/data/examples/{axiom}/minimal_{vm_name}.soc\"\n",
    "                    prof.write(filename)\n",
    "                    found_it = True\n",
    "                    break\n",
    "            if found_it:\n",
    "                break\n",
    "        if found_it:\n",
    "            break\n"
   ]
  },
  {
   "cell_type": "code",
   "execution_count": null,
   "metadata": {},
   "outputs": [],
   "source": []
  }
 ],
 "metadata": {
  "kernelspec": {
   "display_name": "Python 3",
   "language": "python",
   "name": "python3"
  },
  "language_info": {
   "codemirror_mode": {
    "name": "ipython",
    "version": 3
   },
   "file_extension": ".py",
   "mimetype": "text/x-python",
   "name": "python",
   "nbconvert_exporter": "python",
   "pygments_lexer": "ipython3",
   "version": "3.11.6"
  }
 },
 "nbformat": 4,
 "nbformat_minor": 2
}
