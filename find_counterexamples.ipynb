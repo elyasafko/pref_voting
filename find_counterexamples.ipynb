{
 "cells": [
  {
   "cell_type": "code",
   "execution_count": 2,
   "metadata": {},
   "outputs": [],
   "source": [
    "from pref_voting.dominance_axioms import condorcet_winner, condorcet_loser, pareto_dominance\n",
    "\n",
    "from pref_voting.voting_methods import *\n",
    "from pref_voting.generate_profiles import *\n",
    "from pref_voting.voting_methods_registry import voting_methods\n",
    "from pref_voting.generate_weighted_majority_graphs import *\n",
    "from pref_voting.helper import *\n",
    "from pref_voting.mappings import *  \n",
    "from tqdm.notebook import tqdm\n",
    "from pref_voting.axioms import *\n",
    "import pickle"
   ]
  },
  {
   "cell_type": "code",
   "execution_count": 34,
   "metadata": {},
   "outputs": [
    {
     "name": "stdout",
     "output_type": "stream",
     "text": [
      "+---+---+---+\n",
      "| 3 | 3 | 1 |\n",
      "+---+---+---+\n",
      "| a | b | c |\n",
      "| b | c | a |\n",
      "| c | a | b |\n",
      "+---+---+---+\n"
     ]
    },
    {
     "data": {
      "image/png": "[encoded data removed]",
      "text/plain": [
       "<Figure size 640x480 with 1 Axes>"
      ]
     },
     "metadata": {},
     "output_type": "display_data"
    },
    {
     "name": "stdout",
     "output_type": "stream",
     "text": [
      "The margin of $$a$$ over $$b$$ is $$1$$, not $$3$$\n",
      "The margin of $$b$$ over $$c$$ is $$5$$, not $$3$$\n",
      "The margin of $$c$$ over $$a$$ is $$1$$, not $$1$$\n"
     ]
    }
   ],
   "source": [
    "a=0\n",
    "b=1\n",
    "c=2\n",
    "prof = Profile([\n",
    "    [a, b, c],\n",
    "    [a, c, b],\n",
    "    [b, a, c],\n",
    "    [b, c, a],\n",
    "    [c, a, b],\n",
    "    [c, b, a],\n",
    " ], \n",
    " rcounts=[\n",
    "     3, #abc \n",
    "     0, #acb\n",
    "     0, #bac\n",
    "     3, #bca\n",
    "     1, #cab\n",
    "     0  #cba\n",
    " ],\n",
    " cmap = {a: 'a', b: 'b', c: 'c'})\n",
    "\n",
    "prof.anonymize().display()\n",
    "\n",
    "prof.display_margin_graph()\n",
    "\n",
    "print(f\"The margin of $$a$$ over $$b$$ is $${prof.margin(a, b)}$$, not $$3$$\")\n",
    "print(f\"The margin of $$b$$ over $$c$$ is $${prof.margin(b, c)}$$, not $$3$$\")\n",
    "print(f\"The margin of $$c$$ over $$a$$ is $${prof.margin(c, a)}$$, not $$1$$\")"
   ]
  },
  {
   "cell_type": "code",
   "execution_count": null,
   "metadata": {},
   "outputs": [],
   "source": [
    "cw_vms = voting_methods.filter(violates=[\"condorcet_winner\"], election_types=[ElectionTypes.PROFILE])\n",
    "\n",
    "print(len(cw_vms))\n",
    "for vm in cw_vms: \n",
    "    print(vm)"
   ]
  },
  {
   "cell_type": "code",
   "execution_count": null,
   "metadata": {},
   "outputs": [],
   "source": [
    "all_num_cands = [3, 4, 5]\n",
    "all_num_voters = [2, 3, 4, 5, 6, 7, 8, 9]\n",
    "axiom = \"condorcet_winner\"\n",
    "axiom_params = {\n",
    "    \"only_resolute\": True,\n",
    "}\n",
    "vms_to_skip = [iterated_removal_cl, pareto, superior_voting]\n",
    "ax = axioms_dict[axiom]\n",
    "for vm in cw_vms:\n",
    "    if vm in vms_to_skip:\n",
    "        continue\n",
    "    print(vm)\n",
    "    found_it = False\n",
    "    vm_name = vm.name.replace(\" \", \"_\")\n",
    "    filename= f\"./pref_voting/data/examples/{axiom}/minimal_resolute_{vm_name}.soc\"\n",
    "\n",
    "    if os.path.exists(filename):\n",
    "        print(f\"Skipping {vm} because {filename} already exists\")\n",
    "        continue\n",
    "    for num_cands in tqdm(all_num_cands): \n",
    "        for num_voters in tqdm(all_num_voters): \n",
    "            for _prof in enumerate_anon_profile(num_cands, num_voters): \n",
    "                prof = _prof.anonymize()\n",
    "                if ax.has_violation(prof, vm, **axiom_params): \n",
    "                    print(f\"Found a profile that violates {axiom} for {vm} with {num_cands} candidates and {num_voters} voters\") \n",
    "                    # remove spaces in vm name\n",
    "                    vm_name = vm.name.replace(\" \", \"_\")\n",
    "                    filename= f\"./pref_voting/data/examples/{axiom}/minimal_resolute_{vm_name}.soc\"\n",
    "                    prof.write(filename)\n",
    "                    found_it = True\n",
    "                    break\n",
    "            if found_it:\n",
    "                break\n",
    "        if found_it:\n",
    "            break\n"
   ]
  },
  {
   "cell_type": "code",
   "execution_count": null,
   "metadata": {},
   "outputs": [],
   "source": [
    "all_num_cands = [3, 4, 5]\n",
    "all_num_voters = [2, 3, 4, 5, 6, 7, 8, 9]\n",
    "axiom = \"condorcet_winner\"\n",
    "axiom_params = {\n",
    "    \"only_resolute\": False,\n",
    "}\n",
    "vms_to_skip = []\n",
    "ax = axioms_dict[axiom]\n",
    "for vm in cw_vms:\n",
    "    if vm in vms_to_skip:\n",
    "        continue\n",
    "    print(vm)\n",
    "    found_it = False\n",
    "    for num_cands in tqdm(all_num_cands): \n",
    "        for num_voters in tqdm(all_num_voters): \n",
    "            for _prof in enumerate_anon_profile(num_cands, num_voters): \n",
    "                prof = _prof.anonymize()\n",
    "                if ax.has_violation(prof, vm, **axiom_params): \n",
    "                    print(f\"Found a profile that violates {axiom} for {vm} with {num_cands} candidates and {num_voters} voters\") \n",
    "                    # remove spaces in vm name\n",
    "                    vm_name = vm.name.replace(\" \", \"_\")\n",
    "                    filename= f\"./pref_voting/data/examples/{axiom}/minimal_{vm_name}.soc\"\n",
    "                    prof.write(filename)\n",
    "                    found_it = True\n",
    "                    break\n",
    "            if found_it:\n",
    "                break\n",
    "        if found_it:\n",
    "            break\n"
   ]
  },
  {
   "cell_type": "code",
   "execution_count": null,
   "metadata": {},
   "outputs": [],
   "source": []
  }
 ],
 "metadata": {
  "kernelspec": {
   "display_name": "Python 3",
   "language": "python",
   "name": "python3"
  },
  "language_info": {
   "codemirror_mode": {
    "name": "ipython",
    "version": 3
   },
   "file_extension": ".py",
   "mimetype": "text/x-python",
   "name": "python",
   "nbconvert_exporter": "python",
   "pygments_lexer": "ipython3",
   "version": "3.12.7"
  }
 },
 "nbformat": 4,
 "nbformat_minor": 2
}
