{
 "cells": [
  {
   "cell_type": "code",
   "execution_count": 1,
   "metadata": {},
   "outputs": [],
   "source": [
    "from pref_voting.dominance_axioms import condorcet_winner, condorcet_loser, pareto_dominance\n",
    "\n",
    "from pref_voting.voting_methods import *\n",
    "from pref_voting.generate_profiles import *\n",
    "from pref_voting.voting_methods_registry import voting_methods\n",
    "from pref_voting.helper import *"
   ]
  },
  {
   "cell_type": "code",
   "execution_count": 5,
   "metadata": {},
   "outputs": [
    {
     "name": "stdout",
     "output_type": "stream",
     "text": [
      "73\n"
     ]
    }
   ],
   "source": [
    "print(len(list(voting_methods)))"
   ]
  },
  {
   "cell_type": "code",
   "execution_count": 2,
   "metadata": {},
   "outputs": [
    {
     "name": "stdout",
     "output_type": "stream",
     "text": [
      "Anti-Plurality (Scoring Rule)\n",
      "Satisfied properties: []\n",
      "Violated properties: ['condorcet_winner', 'condorcet_loser', 'pareto_dominance']\n",
      "\n",
      "Borda (Combined Method)\n",
      "Satisfied properties: ['condorcet_loser', 'pareto_dominance']\n",
      "Violated properties: ['condorcet_winner']\n",
      "\n",
      "Borda (for Truncated Profiles) (Scoring Rule)\n",
      "Satisfied properties: []\n",
      "Violated properties: []\n",
      "\n",
      "Dowdall (Scoring Rule)\n",
      "Satisfied properties: ['pareto_dominance']\n",
      "Violated properties: ['condorcet_winner', 'condorcet_loser']\n",
      "\n",
      "Plurality (Other Method)\n",
      "Satisfied properties: ['pareto_dominance']\n",
      "Violated properties: ['condorcet_winner', 'condorcet_loser']\n",
      "\n",
      "Positive-Negative Voting (Scoring Rule)\n",
      "Satisfied properties: []\n",
      "Violated properties: ['condorcet_winner', 'condorcet_loser', 'pareto_dominance']\n",
      "\n",
      "Alternative Vote (Iterative Method)\n",
      "Satisfied properties: ['pareto_dominance']\n",
      "Violated properties: ['condorcet_winner', 'condorcet_loser']\n",
      "\n",
      "Baldwin (Iterative Method)\n",
      "Satisfied properties: ['condorcet_winner', 'condorcet_loser', 'pareto_dominance']\n",
      "Violated properties: []\n",
      "\n",
      "Baldwin PUT (Iterative Method)\n",
      "Satisfied properties: ['condorcet_winner', 'condorcet_loser', 'pareto_dominance']\n",
      "Violated properties: []\n",
      "\n",
      "Baldwin TB (Iterative Method)\n",
      "Satisfied properties: ['pareto_dominance']\n",
      "Violated properties: ['condorcet_winner']\n",
      "\n",
      "Benham (Iterative Method)\n",
      "Satisfied properties: ['condorcet_winner', 'pareto_dominance']\n",
      "Violated properties: ['condorcet_loser']\n",
      "\n",
      "Benham PUT (Iterative Method)\n",
      "Satisfied properties: ['condorcet_winner', 'pareto_dominance']\n",
      "Violated properties: []\n",
      "\n",
      "Benham TB (Iterative Method)\n",
      "Satisfied properties: ['condorcet_winner', 'pareto_dominance']\n",
      "Violated properties: []\n",
      "\n",
      "Bottom-Two-Runoff Instant Runoff (Iterative Method)\n",
      "Satisfied properties: ['condorcet_winner', 'pareto_dominance']\n",
      "Violated properties: ['condorcet_loser']\n",
      "\n",
      "Bottom-Two-Runoff Instant Runoff PUT (Iterative Method)\n",
      "Satisfied properties: []\n",
      "Violated properties: ['condorcet_loser']\n",
      "\n",
      "Coombs (Iterative Method)\n",
      "Satisfied properties: ['condorcet_loser', 'pareto_dominance']\n",
      "Violated properties: ['condorcet_winner']\n",
      "\n",
      "Coombs PUT (Iterative Method)\n",
      "Satisfied properties: ['pareto_dominance']\n",
      "Violated properties: ['condorcet_winner']\n",
      "\n",
      "Coombs TB (Iterative Method)\n",
      "Satisfied properties: ['pareto_dominance']\n",
      "Violated properties: ['condorcet_winner']\n",
      "\n",
      "GOCHA (Iterative Method)\n",
      "Satisfied properties: ['condorcet_winner', 'condorcet_loser', 'pareto_dominance']\n",
      "Violated properties: []\n",
      "\n",
      "Hare (Iterative Method)\n",
      "Satisfied properties: ['pareto_dominance']\n",
      "Violated properties: ['condorcet_winner', 'condorcet_loser']\n",
      "\n",
      "Hare PUT (Iterative Method)\n",
      "Satisfied properties: ['pareto_dominance']\n",
      "Violated properties: ['condorcet_winner']\n",
      "\n",
      "Instant Runoff (Combined Method)\n",
      "Satisfied properties: []\n",
      "Violated properties: ['condorcet_winner', 'condorcet_loser']\n",
      "\n",
      "Instant Runoff PUT (Combined Method)\n",
      "Satisfied properties: ['pareto_dominance']\n",
      "Violated properties: ['condorcet_winner']\n",
      "\n",
      "Instant Runoff TB (Iterative Method)\n",
      "Satisfied properties: ['pareto_dominance']\n",
      "Violated properties: ['condorcet_winner']\n",
      "\n",
      "Iterated Removal Condorcet Loser (Combined Method)\n",
      "Satisfied properties: ['condorcet_loser']\n",
      "Violated properties: ['condorcet_winner', 'pareto_dominance']\n",
      "\n",
      "Knockout Voting (Iterative Method)\n",
      "Satisfied properties: []\n",
      "Violated properties: []\n",
      "\n",
      "PluralityWRunoff PUT (Iterative Method)\n",
      "Satisfied properties: ['condorcet_loser']\n",
      "Violated properties: ['condorcet_winner']\n",
      "\n",
      "Ranked Choice (Iterative Method)\n",
      "Satisfied properties: ['pareto_dominance']\n",
      "Violated properties: ['condorcet_winner', 'condorcet_loser']\n",
      "\n",
      "Ranked Choice PUT (Iterative Method)\n",
      "Satisfied properties: ['pareto_dominance']\n",
      "Violated properties: ['condorcet_winner']\n",
      "\n",
      "Raynaud (Iterative Method)\n",
      "Satisfied properties: ['condorcet_winner', 'pareto_dominance']\n",
      "Violated properties: ['condorcet_loser']\n",
      "\n",
      "Split Cycle (Margin Based Method)\n",
      "Satisfied properties: ['condorcet_winner', 'condorcet_loser', 'pareto_dominance']\n",
      "Violated properties: []\n",
      "\n",
      "Strict Nanson (Iterative Method)\n",
      "Satisfied properties: ['condorcet_winner', 'condorcet_loser', 'pareto_dominance']\n",
      "Violated properties: []\n",
      "\n",
      "Tideman Alternative GOCHA (Iterative Method)\n",
      "Satisfied properties: ['condorcet_winner', 'condorcet_loser', 'pareto_dominance']\n",
      "Violated properties: []\n",
      "\n",
      "Tideman Alternative GOCHA PUT (Iterative Method)\n",
      "Satisfied properties: ['condorcet_winner', 'condorcet_loser', 'pareto_dominance']\n",
      "Violated properties: []\n",
      "\n",
      "Tideman Alternative Top Cycle (Iterative Method)\n",
      "Satisfied properties: ['condorcet_winner', 'condorcet_loser', 'pareto_dominance']\n",
      "Violated properties: []\n",
      "\n",
      "Tideman Alternative Top Cycle PUT (Iterative Method)\n",
      "Satisfied properties: ['condorcet_winner', 'condorcet_loser', 'pareto_dominance']\n",
      "Violated properties: []\n",
      "\n",
      "Top Cycle (Combined Method)\n",
      "Satisfied properties: ['condorcet_winner', 'condorcet_loser', 'pareto_dominance']\n",
      "Violated properties: []\n",
      "\n",
      "Weak Nanson (Iterative Method)\n",
      "Satisfied properties: ['condorcet_winner', 'condorcet_loser', 'pareto_dominance']\n",
      "Violated properties: []\n",
      "\n",
      "Woodall (Iterative Method)\n",
      "Satisfied properties: ['condorcet_winner', 'condorcet_loser', 'pareto_dominance']\n",
      "Violated properties: []\n",
      "\n",
      "Simple Stable Voting (Margin Based Method)\n",
      "Satisfied properties: ['condorcet_winner', 'condorcet_loser', 'pareto_dominance']\n",
      "Violated properties: []\n",
      "\n",
      "Beat Path (Margin Based Method)\n",
      "Satisfied properties: ['condorcet_winner', 'condorcet_loser', 'pareto_dominance']\n",
      "Violated properties: []\n",
      "\n",
      "Essential Set (Margin Based Method)\n",
      "Satisfied properties: ['condorcet_winner', 'condorcet_loser', 'pareto_dominance']\n",
      "Violated properties: []\n",
      "\n",
      "Loss-Trimmer Voting (Margin Based Method)\n",
      "Satisfied properties: ['condorcet_winner', 'condorcet_loser', 'pareto_dominance']\n",
      "Violated properties: []\n",
      "\n",
      "Minimax (Combined Method)\n",
      "Satisfied properties: ['condorcet_winner', 'pareto_dominance']\n",
      "Violated properties: ['condorcet_loser']\n",
      "\n",
      "Ranked Pairs (Margin Based Method)\n",
      "Satisfied properties: ['condorcet_winner', 'condorcet_loser', 'pareto_dominance']\n",
      "Violated properties: []\n",
      "\n",
      "Ranked Pairs TB (Margin Based Method)\n",
      "Satisfied properties: ['condorcet_winner', 'condorcet_loser', 'pareto_dominance']\n",
      "Violated properties: []\n",
      "\n",
      "Ranked Pairs ZT (Margin Based Method)\n",
      "Satisfied properties: ['condorcet_winner', 'condorcet_loser', 'pareto_dominance']\n",
      "Violated properties: []\n",
      "\n",
      "River (Margin Based Method)\n",
      "Satisfied properties: ['condorcet_winner', 'condorcet_loser', 'pareto_dominance']\n",
      "Violated properties: []\n",
      "\n",
      "River TB (Margin Based Method)\n",
      "Satisfied properties: ['condorcet_winner', 'condorcet_loser', 'pareto_dominance']\n",
      "Violated properties: []\n",
      "\n",
      "River ZT (Margin Based Method)\n",
      "Satisfied properties: ['condorcet_winner', 'condorcet_loser', 'pareto_dominance']\n",
      "Violated properties: []\n",
      "\n",
      "Stable Voting (Margin Based Method)\n",
      "Satisfied properties: ['condorcet_winner', 'condorcet_loser', 'pareto_dominance']\n",
      "Violated properties: []\n",
      "\n",
      "Weighted Covering (Margin Based Method)\n",
      "Satisfied properties: ['condorcet_winner', 'condorcet_loser', 'pareto_dominance']\n",
      "Violated properties: []\n",
      "\n",
      "Blacks (Combined Method)\n",
      "Satisfied properties: ['condorcet_winner', 'condorcet_loser', 'pareto_dominance']\n",
      "Violated properties: []\n",
      "\n",
      "Borda-Minimax Faceoff (Combined Method)\n",
      "Satisfied properties: ['condorcet_winner', 'condorcet_loser', 'pareto_dominance']\n",
      "Violated properties: []\n",
      "\n",
      "Condorcet (Combined Method)\n",
      "Satisfied properties: ['condorcet_winner']\n",
      "Violated properties: ['condorcet_loser', 'pareto_dominance']\n",
      "\n",
      "Condorcet IRV (Combined Method)\n",
      "Satisfied properties: ['condorcet_winner', 'condorcet_loser', 'pareto_dominance']\n",
      "Violated properties: []\n",
      "\n",
      "Condorcet IRV PUT (Combined Method)\n",
      "Satisfied properties: ['condorcet_winner', 'condorcet_loser', 'pareto_dominance']\n",
      "Violated properties: []\n",
      "\n",
      "Condorcet Plurality (Combined Method)\n",
      "Satisfied properties: ['condorcet_winner', 'pareto_dominance']\n",
      "Violated properties: ['condorcet_loser']\n",
      "\n",
      "Copeland (Combined Method)\n",
      "Satisfied properties: ['condorcet_winner', 'condorcet_loser', 'pareto_dominance']\n",
      "Violated properties: []\n",
      "\n",
      "Copeland-Global-Borda (Combined Method)\n",
      "Satisfied properties: ['condorcet_winner', 'condorcet_loser', 'pareto_dominance']\n",
      "Violated properties: []\n",
      "\n",
      "Copeland-Local-Borda (Combined Method)\n",
      "Satisfied properties: ['condorcet_winner', 'condorcet_loser', 'pareto_dominance']\n",
      "Violated properties: []\n",
      "\n",
      "Daunou (Combined Method)\n",
      "Satisfied properties: ['condorcet_winner', 'condorcet_loser', 'pareto_dominance']\n",
      "Violated properties: []\n",
      "\n",
      "Smith IRV (Combined Method)\n",
      "Satisfied properties: ['condorcet_winner', 'condorcet_loser', 'pareto_dominance']\n",
      "Violated properties: []\n",
      "\n",
      "Smith IRV PUT (Combined Method)\n",
      "Satisfied properties: ['condorcet_winner', 'condorcet_loser', 'pareto_dominance']\n",
      "Violated properties: []\n",
      "\n",
      "Smith-Minimax (Combined Method)\n",
      "Satisfied properties: ['condorcet_winner', 'condorcet_loser', 'pareto_dominance']\n",
      "Violated properties: []\n",
      "\n",
      "Bracket Voting (Other Method)\n",
      "Satisfied properties: ['condorcet_loser', 'pareto_dominance']\n",
      "Violated properties: ['condorcet_winner']\n",
      "\n",
      "Bucklin (Other Method)\n",
      "Satisfied properties: ['pareto_dominance']\n",
      "Violated properties: ['condorcet_winner', 'condorcet_loser']\n",
      "\n",
      "Kemeny-Young (Other Method)\n",
      "Satisfied properties: ['condorcet_winner', 'condorcet_loser', 'pareto_dominance']\n",
      "Violated properties: []\n",
      "\n",
      "Pareto (Other Method)\n",
      "Satisfied properties: ['pareto_dominance']\n",
      "Violated properties: ['condorcet_winner', 'condorcet_loser']\n",
      "\n",
      "Preliminary Weighted Condorcet (Other Method)\n",
      "Satisfied properties: ['condorcet_winner', 'condorcet_loser', 'pareto_dominance']\n",
      "Violated properties: []\n",
      "\n",
      "Simplified Bucklin (Other Method)\n",
      "Satisfied properties: ['pareto_dominance']\n",
      "Violated properties: ['condorcet_winner', 'condorcet_loser']\n",
      "\n",
      "Superior Voting (Other Method)\n",
      "Satisfied properties: ['condorcet_loser', 'pareto_dominance']\n",
      "Violated properties: ['condorcet_winner']\n",
      "\n",
      "Weighted Bucklin (Other Method)\n",
      "Satisfied properties: ['pareto_dominance']\n",
      "Violated properties: ['condorcet_winner']\n",
      "\n"
     ]
    }
   ],
   "source": [
    "voting_methods.display_methods()"
   ]
  },
  {
   "cell_type": "code",
   "execution_count": 3,
   "metadata": {},
   "outputs": [
    {
     "name": "stdout",
     "output_type": "stream",
     "text": [
      "Anti-Plurality\n",
      "Anti-Plurality winners are {1, 2, 3}\n",
      "Borda\n",
      "Borda winner is {1}\n",
      "Borda (for Truncated Profiles)\n",
      "Dowdall\n",
      "Dowdall winner is {1}\n",
      "Plurality\n",
      "Plurality winners are {0, 1}\n",
      "Positive-Negative Voting\n",
      "Positive-Negative Voting winner is {1}\n",
      "Alternative Vote\n",
      "Alternative Vote winner is {1}\n",
      "Baldwin\n",
      "Baldwin winner is {1}\n",
      "Baldwin PUT\n",
      "Baldwin PUT winner is {1}\n",
      "Baldwin TB\n",
      "Baldwin TB winner is {1}\n",
      "Benham\n",
      "Benham winner is {1}\n",
      "Benham PUT\n",
      "Benham PUT winner is {1}\n",
      "Benham TB\n",
      "Benham TB winner is {1}\n",
      "Bottom-Two-Runoff Instant Runoff\n",
      "Bottom-Two-Runoff Instant Runoff winner is {1}\n",
      "Bottom-Two-Runoff Instant Runoff PUT\n",
      "Bottom-Two-Runoff Instant Runoff PUT winner is {1}\n",
      "Coombs\n",
      "Coombs winner is {1}\n",
      "Coombs PUT\n",
      "Coombs PUT winner is {1}\n",
      "Coombs TB\n",
      "Coombs TB winner is {1}\n",
      "GOCHA\n",
      "GOCHA winner is {1}\n",
      "Hare\n",
      "Hare winner is {1}\n",
      "Hare PUT\n",
      "Hare PUT winner is {1}\n",
      "Instant Runoff\n",
      "Instant Runoff PUT\n",
      "Instant Runoff PUT winner is {1}\n",
      "Instant Runoff TB\n",
      "Instant Runoff TB winner is {1}\n",
      "Iterated Removal Condorcet Loser\n",
      "Iterated Removal Condorcet Loser winner is {1}\n",
      "Knockout Voting\n",
      "Knockout Voting winner is {1}\n",
      "PluralityWRunoff PUT\n",
      "PluralityWRunoff PUT winner is {1}\n",
      "Ranked Choice\n",
      "Ranked Choice winner is {1}\n",
      "Ranked Choice PUT\n",
      "Ranked Choice PUT winner is {1}\n",
      "Raynaud\n",
      "Raynaud winner is {1}\n",
      "Split Cycle\n",
      "Split Cycle winner is {1}\n",
      "Strict Nanson\n",
      "Strict Nanson winner is {1}\n",
      "Tideman Alternative GOCHA\n",
      "Tideman Alternative GOCHA winner is {1}\n",
      "Tideman Alternative GOCHA PUT\n",
      "Tideman Alternative GOCHA PUT winner is {1}\n",
      "Tideman Alternative Top Cycle\n",
      "Tideman Alternative Top Cycle winner is {1}\n",
      "Tideman Alternative Top Cycle PUT\n",
      "Tideman Alternative Top Cycle PUT winner is {1}\n",
      "Top Cycle\n",
      "Top Cycle winner is {1}\n",
      "Weak Nanson\n",
      "Weak Nanson winner is {1}\n",
      "Woodall\n",
      "Woodall winner is {1}\n",
      "Simple Stable Voting\n",
      "Simple Stable Voting winner is {1}\n",
      "Beat Path\n",
      "Beat Path winner is {1}\n",
      "Essential Set\n",
      "Essential Set winner is {1}\n",
      "Loss-Trimmer Voting\n",
      "Loss-Trimmer Voting winner is {1}\n",
      "Minimax\n",
      "Minimax winner is {1}\n",
      "Ranked Pairs\n",
      "Ranked Pairs winner is {1}\n",
      "Ranked Pairs TB\n",
      "Ranked Pairs TB winner is {1}\n",
      "Ranked Pairs ZT\n",
      "Ranked Pairs ZT winner is {1}\n",
      "River\n",
      "River winner is {1}\n",
      "River TB\n",
      "River TB winner is {1}\n",
      "River ZT\n",
      "River ZT winner is {1}\n",
      "Stable Voting\n",
      "Stable Voting winner is {1}\n",
      "Weighted Covering\n",
      "Weighted Covering winner is {1}\n",
      "Blacks\n",
      "Blacks winner is {1}\n",
      "Borda-Minimax Faceoff\n",
      "Borda-Minimax Faceoff winner is {1}\n",
      "Condorcet\n",
      "Condorcet winner is {1}\n",
      "Condorcet IRV\n",
      "Condorcet IRV winner is {1}\n",
      "Condorcet IRV PUT\n",
      "Condorcet IRV PUT winner is {1}\n",
      "Condorcet Plurality\n",
      "Condorcet Plurality winner is {1}\n",
      "Copeland\n",
      "Copeland winner is {1}\n",
      "Copeland-Global-Borda\n",
      "Copeland-Global-Borda winner is {1}\n",
      "Copeland-Local-Borda\n",
      "Copeland-Local-Borda winner is {1}\n",
      "Daunou\n",
      "Daunou winner is {1}\n",
      "Smith IRV\n",
      "Smith IRV winner is {1}\n",
      "Smith IRV PUT\n",
      "Smith IRV PUT winner is {1}\n",
      "Smith-Minimax\n",
      "Smith-Minimax winner is {1}\n",
      "Bracket Voting\n",
      "Bracket Voting winner is {1}\n",
      "Bucklin\n",
      "Bucklin winner is {1}\n",
      "Kemeny-Young\n",
      "Kemeny-Young winner is {1}\n",
      "Pareto\n",
      "Pareto winners are {0, 1, 2, 3}\n",
      "Preliminary Weighted Condorcet\n",
      "Preliminary Weighted Condorcet winners are {1, 2}\n",
      "Simplified Bucklin\n",
      "Simplified Bucklin winners are {0, 1, 3}\n",
      "Superior Voting\n",
      "Superior Voting winner is {1}\n",
      "Weighted Bucklin\n",
      "Weighted Bucklin winner is {1}\n"
     ]
    }
   ],
   "source": [
    "prof = generate_profile(4, 5)\n",
    "for vm in voting_methods:\n",
    "    print(vm)\n",
    "    if ElectionTypes.PROFILE in vm.input_types:\n",
    "        vm.display(prof)"
   ]
  },
  {
   "cell_type": "code",
   "execution_count": 25,
   "metadata": {},
   "outputs": [],
   "source": [
    "\n",
    "for t in range(10000): \n",
    "    prof = generate_profile(10, 100)\n",
    "    if pareto_dominance.has_violation(prof,superior_voting, verbose=True): \n",
    "        print(prof)\n",
    "        break\n"
   ]
  },
  {
   "cell_type": "code",
   "execution_count": 34,
   "metadata": {},
   "outputs": [],
   "source": [
    "from pref_voting.swf_axioms import *"
   ]
  },
  {
   "cell_type": "code",
   "execution_count": 6,
   "metadata": {},
   "outputs": [
    {
     "name": "stdout",
     "output_type": "stream",
     "text": [
      "+----+----+----+\n",
      "| 40 | 35 | 25 |\n",
      "+----+----+----+\n",
      "| 0  | 2  | 1  |\n",
      "| 1  | 1  | 2  |\n",
      "| 2  | 0  | 0  |\n",
      "+----+----+----+\n",
      "Plurality winner is {0}\n",
      "Instant Runoff winner is {2}\n",
      "Split Cycle winner is {1}\n"
     ]
    }
   ],
   "source": [
    "R=0\n",
    "D=1\n",
    "P=2\n",
    "prof = Profile([\n",
    "    [R, D, P],\n",
    "    [P, D, R],\n",
    "    [D, P, R]\n",
    "], \n",
    "[40, 35, 25],\n",
    ")\n",
    "\n",
    "prof.display()\n",
    "\n",
    "plurality.display(prof)\n",
    "instant_runoff.display(prof)\n",
    "split_cycle.display(prof)\n",
    "\n",
    "sc_ranking = swf_from_vm(split_cycle)\n",
    "\n",
    "@swf(\"DPR\")\n",
    "def dpr(profile, curr_cands=None):\n",
    "    return Ranking({D: 1, P: 2, R: 3})\n",
    "@swf(\"DRP\")\n",
    "def drp(profile, curr_cands=None):\n",
    "    return Ranking({D: 1, P: 3, R: 2})\n",
    "@swf(\"RPD\")\n",
    "def rpd(profile, curr_cands=None):\n",
    "    return Ranking({D: 3, P: 2, R: 1})\n",
    "@swf(\"RDP\")\n",
    "def rdp(profile, curr_cands=None):\n",
    "    return Ranking({D: 2, P: 3, R: 1})\n",
    "@swf(\"PDR\")\n",
    "def pdr(profile, curr_cands=None):\n",
    "    return Ranking({D: 2, P: 1, R: 3})\n",
    "@swf(\"PRD\")\n",
    "def prd(profile, curr_cands=None):\n",
    "    return Ranking({D: 3, P: 1, R: 2})\n"
   ]
  },
  {
   "cell_type": "code",
   "execution_count": 7,
   "metadata": {},
   "outputs": [
    {
     "name": "stdout",
     "output_type": "stream",
     "text": [
      "Instant Runoff Ranking ranking is 2 0 1 \n",
      "SWF from Instant Runoff ranking is 2 1 0 \n"
     ]
    }
   ],
   "source": [
    "instant_runoff_ranking.display(prof)\n",
    "\n",
    "irv_swf2 = swf_from_vm(instant_runoff)\n",
    "irv_swf2.display(prof)"
   ]
  },
  {
   "cell_type": "code",
   "execution_count": 10,
   "metadata": {},
   "outputs": [
    {
     "name": "stdout",
     "output_type": "stream",
     "text": [
      "Core support violation by PDR for 1 relative to 0:\n",
      "+----+----+----+\n",
      "| 40 | 35 | 25 |\n",
      "+----+----+----+\n",
      "| 0  | 2  | 1  |\n",
      "| 1  | 1  | 2  |\n",
      "| 2  | 0  | 0  |\n",
      "+----+----+----+\n"
     ]
    },
    {
     "data": {
      "image/png": "[encoded data removed]",
      "text/plain": [
       "<Figure size 640x480 with 1 Axes>"
      ]
     },
     "metadata": {},
     "output_type": "display_data"
    },
    {
     "name": "stdout",
     "output_type": "stream",
     "text": [
      "Social ranking: 2 1 0 \n",
      "Major candidates relative to 0: [0, 1, 2]\n",
      "Profile restricted to voters in core support for 1 relative to 0 and for 0 relative to 0:\n",
      "+----+----+\n",
      "| 25 | 40 |\n",
      "+----+----+\n",
      "| 1  | 0  |\n",
      "| 2  | 1  |\n",
      "| 0  | 2  |\n",
      "+----+----+\n"
     ]
    },
    {
     "data": {
      "image/png": "[encoded data removed]",
      "text/plain": [
       "<Figure size 640x480 with 1 Axes>"
      ]
     },
     "metadata": {},
     "output_type": "display_data"
    },
    {
     "name": "stdout",
     "output_type": "stream",
     "text": [
      "Core support violation by PDR for 2 relative to 0:\n",
      "+----+----+----+\n",
      "| 40 | 35 | 25 |\n",
      "+----+----+----+\n",
      "| 0  | 2  | 1  |\n",
      "| 1  | 1  | 2  |\n",
      "| 2  | 0  | 0  |\n",
      "+----+----+----+\n"
     ]
    },
    {
     "data": {
      "image/png": "[encoded data removed]",
      "text/plain": [
       "<Figure size 640x480 with 1 Axes>"
      ]
     },
     "metadata": {},
     "output_type": "display_data"
    },
    {
     "name": "stdout",
     "output_type": "stream",
     "text": [
      "Social ranking: 2 1 0 \n",
      "Major candidates relative to 0: [0, 1, 2]\n",
      "Profile restricted to voters in core support for 2 relative to 0 and for 0 relative to 0:\n",
      "+----+----+\n",
      "| 35 | 40 |\n",
      "+----+----+\n",
      "| 2  | 0  |\n",
      "| 1  | 1  |\n",
      "| 0  | 2  |\n",
      "+----+----+\n"
     ]
    },
    {
     "data": {
      "image/png": "[encoded data removed]",
      "text/plain": [
       "<Figure size 640x480 with 1 Axes>"
      ]
     },
     "metadata": {},
     "output_type": "display_data"
    },
    {
     "name": "stdout",
     "output_type": "stream",
     "text": [
      "Core support violation by PDR for 2 relative to 1:\n",
      "+----+----+----+\n",
      "| 40 | 35 | 25 |\n",
      "+----+----+----+\n",
      "| 0  | 2  | 1  |\n",
      "| 1  | 1  | 2  |\n",
      "| 2  | 0  | 0  |\n",
      "+----+----+----+\n"
     ]
    },
    {
     "data": {
      "image/png": "[encoded data removed]",
      "text/plain": [
       "<Figure size 640x480 with 1 Axes>"
      ]
     },
     "metadata": {},
     "output_type": "display_data"
    },
    {
     "name": "stdout",
     "output_type": "stream",
     "text": [
      "Social ranking: 2 1 0 \n",
      "Major candidates relative to 1: [1, 2]\n",
      "Profile restricted to voters in core support for 2 relative to 1 and for 1 relative to 1:\n",
      "+----+----+----+\n",
      "| 35 | 40 | 25 |\n",
      "+----+----+----+\n",
      "| 2  | 0  | 1  |\n",
      "| 1  | 1  | 2  |\n",
      "| 0  | 2  | 0  |\n",
      "+----+----+----+\n"
     ]
    },
    {
     "data": {
      "image/png": "[encoded data removed]",
      "text/plain": [
       "<Figure size 640x480 with 1 Axes>"
      ]
     },
     "metadata": {},
     "output_type": "display_data"
    },
    {
     "data": {
      "text/plain": [
       "[(1, 0), (2, 0), (2, 1)]"
      ]
     },
     "execution_count": 10,
     "metadata": {},
     "output_type": "execute_result"
    }
   ],
   "source": [
    "core_support.find_all_violations(prof.anonymize(),pdr, verbose=True)"
   ]
  },
  {
   "cell_type": "code",
   "execution_count": null,
   "metadata": {},
   "outputs": [],
   "source": []
  },
  {
   "cell_type": "code",
   "execution_count": null,
   "metadata": {},
   "outputs": [],
   "source": []
  },
  {
   "cell_type": "code",
   "execution_count": 37,
   "metadata": {},
   "outputs": [
    {
     "name": "stdout",
     "output_type": "stream",
     "text": [
      "Core support violation by DRP for 1 relative to 2:\n",
      "+----+----+----+\n",
      "| 40 | 35 | 25 |\n",
      "+----+----+----+\n",
      "| 0  | 2  | 1  |\n",
      "| 1  | 1  | 2  |\n",
      "| 2  | 0  | 0  |\n",
      "+----+----+----+\n"
     ]
    },
    {
     "data": {
      "image/png": "[encoded data removed]",
      "text/plain": [
       "<Figure size 640x480 with 1 Axes>"
      ]
     },
     "metadata": {},
     "output_type": "display_data"
    },
    {
     "name": "stdout",
     "output_type": "stream",
     "text": [
      "Social ranking: 1 0 2 \n",
      "Major candidates relative to 2: [0, 1, 2]\n",
      "Profile restricted to voters in core support for 1 relative to 2 and for 2 relative to 2:\n",
      "+---+---+---+---+---+---+---+---+---+---+---+---+---+---+---+---+---+---+---+---+---+---+---+---+---+---+---+---+---+---+---+---+---+---+---+---+---+---+---+---+---+---+---+---+---+---+---+---+---+---+---+---+---+---+---+---+---+---+---+---+\n",
      "| 1 | 1 | 1 | 1 | 1 | 1 | 1 | 1 | 1 | 1 | 1 | 1 | 1 | 1 | 1 | 1 | 1 | 1 | 1 | 1 | 1 | 1 | 1 | 1 | 1 | 1 | 1 | 1 | 1 | 1 | 1 | 1 | 1 | 1 | 1 | 1 | 1 | 1 | 1 | 1 | 1 | 1 | 1 | 1 | 1 | 1 | 1 | 1 | 1 | 1 | 1 | 1 | 1 | 1 | 1 | 1 | 1 | 1 | 1 | 1 |\n",
      "+---+---+---+---+---+---+---+---+---+---+---+---+---+---+---+---+---+---+---+---+---+---+---+---+---+---+---+---+---+---+---+---+---+---+---+---+---+---+---+---+---+---+---+---+---+---+---+---+---+---+---+---+---+---+---+---+---+---+---+---+\n",
      "| 1 | 1 | 1 | 1 | 1 | 1 | 1 | 1 | 1 | 1 | 1 | 1 | 1 | 1 | 1 | 1 | 1 | 1 | 1 | 1 | 1 | 1 | 1 | 1 | 1 | 2 | 2 | 2 | 2 | 2 | 2 | 2 | 2 | 2 | 2 | 2 | 2 | 2 | 2 | 2 | 2 | 2 | 2 | 2 | 2 | 2 | 2 | 2 | 2 | 2 | 2 | 2 | 2 | 2 | 2 | 2 | 2 | 2 | 2 | 2 |\n",
      "| 2 | 2 | 2 | 2 | 2 | 2 | 2 | 2 | 2 | 2 | 2 | 2 | 2 | 2 | 2 | 2 | 2 | 2 | 2 | 2 | 2 | 2 | 2 | 2 | 2 | 1 | 1 | 1 | 1 | 1 | 1 | 1 | 1 | 1 | 1 | 1 | 1 | 1 | 1 | 1 | 1 | 1 | 1 | 1 | 1 | 1 | 1 | 1 | 1 | 1 | 1 | 1 | 1 | 1 | 1 | 1 | 1 | 1 | 1 | 1 |\n",
      "| 0 | 0 | 0 | 0 | 0 | 0 | 0 | 0 | 0 | 0 | 0 | 0 | 0 | 0 | 0 | 0 | 0 | 0 | 0 | 0 | 0 | 0 | 0 | 0 | 0 | 0 | 0 | 0 | 0 | 0 | 0 | 0 | 0 | 0 | 0 | 0 | 0 | 0 | 0 | 0 | 0 | 0 | 0 | 0 | 0 | 0 | 0 | 0 | 0 | 0 | 0 | 0 | 0 | 0 | 0 | 0 | 0 | 0 | 0 | 0 |\n",
      "+---+---+---+---+---+---+---+---+---+---+---+---+---+---+---+---+---+---+---+---+---+---+---+---+---+---+---+---+---+---+---+---+---+---+---+---+---+---+---+---+---+---+---+---+---+---+---+---+---+---+---+---+---+---+---+---+---+---+---+---+\n"
     ]
    },
    {
     "data": {
      "image/png": "[encoded data removed]",
      "text/plain": [
       "<Figure size 640x480 with 1 Axes>"
      ]
     },
     "metadata": {},
     "output_type": "display_data"
    },
    {
     "data": {
      "text/plain": [
       "True"
      ]
     },
     "execution_count": 37,
     "metadata": {},
     "output_type": "execute_result"
    }
   ],
   "source": [
    "core_support.has_violation(prof.anonymize(),drp, verbose=True)"
   ]
  },
  {
   "cell_type": "code",
   "execution_count": null,
   "metadata": {},
   "outputs": [],
   "source": []
  }
 ],
 "metadata": {
  "kernelspec": {
   "display_name": "Python 3",
   "language": "python",
   "name": "python3"
  },
  "language_info": {
   "codemirror_mode": {
    "name": "ipython",
    "version": 3
   },
   "file_extension": ".py",
   "mimetype": "text/x-python",
   "name": "python",
   "nbconvert_exporter": "python",
   "pygments_lexer": "ipython3",
   "version": "3.11.6"
  }
 },
 "nbformat": 4,
 "nbformat_minor": 2
}
