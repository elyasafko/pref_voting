{
 "cells": [
  {
   "cell_type": "markdown",
   "metadata": {},
   "source": [
    "# Collection Decision Procedures"
   ]
  },
  {
   "cell_type": "markdown",
   "metadata": {
    "vscode": {
     "languageId": "plaintext"
    }
   },
   "source": [
    "## Voting Methods\n",
    "\n",
    "A ``VotingMethod`` is a function that maps election data to a non-empty set of candidates. All of the voting methods can be imported from the ``pref_voting.voting_methods`` module. \n"
   ]
  },
  {
   "cell_type": "code",
   "execution_count": 33,
   "metadata": {},
   "outputs": [],
   "source": [
    "from pref_voting.voting_methods import *\n",
    "from pref_voting.profiles import *\n",
    "from pref_voting.generate_profiles import * "
   ]
  },
  {
   "cell_type": "code",
   "execution_count": 34,
   "metadata": {},
   "outputs": [
    {
     "name": "stdout",
     "output_type": "stream",
     "text": [
      "+---+---+---+---+---+---+---+---+---+---+---+\n",
      "| 2 | 3 | 1 | 1 | 2 | 1 | 1 | 1 | 1 | 1 | 1 |\n",
      "+---+---+---+---+---+---+---+---+---+---+---+\n",
      "| 0 | 3 | 0 | 1 | 1 | 0 | 1 | 2 | 3 | 0 | 2 |\n",
      "| 2 | 1 | 2 | 0 | 3 | 3 | 2 | 1 | 0 | 1 | 0 |\n",
      "| 3 | 0 | 1 | 2 | 2 | 2 | 3 | 3 | 2 | 3 | 3 |\n",
      "| 1 | 2 | 3 | 3 | 0 | 1 | 0 | 0 | 1 | 2 | 1 |\n",
      "+---+---+---+---+---+---+---+---+---+---+---+\n",
      "Plurality\n",
      "The winners are  [0]\n",
      "Plurality winner is {0}\n",
      "Choose an arbitrary winner:  0\n",
      "The probability of winning is:  {0: 1.0, 1: 0.0, 2: 0.0, 3: 0.0}\n",
      "The winners restricting to the set [1, 2, 3] of candidates is  [1, 2, 3]\n"
     ]
    }
   ],
   "source": [
    "prof = generate_profile(4, 15)\n",
    "prof.anonymize().display()\n",
    "\n",
    "print(plurality.name)\n",
    "print(\"The winners are \", plurality(prof))\n",
    "\n",
    "plurality.display(prof)\n",
    "\n",
    "print(\"Choose an arbitrary winner: \", plurality.choose(prof))\n",
    "\n",
    "print(\"The probability of winning is: \", plurality.prob(prof))\n",
    "\n",
    "print(\"The winners restricting to the set [1, 2, 3] of candidates is \", plurality(prof, curr_cands=[1, 2, 3]))\n"
   ]
  },
  {
   "cell_type": "markdown",
   "metadata": {},
   "source": [
    "A description of the voting methods that have been implemented can be found in the documentation: \n",
    "\n",
    "* https://pref-voting.readthedocs.io/en/latest/scoring_methods.html\n",
    "* https://pref-voting.readthedocs.io/en/latest/iterative_methods.html\n",
    "* https://pref-voting.readthedocs.io/en/latest/c1_methods.html\n",
    "* https://pref-voting.readthedocs.io/en/latest/margin_based_methods.html\n",
    "* https://pref-voting.readthedocs.io/en/latest/combined_methods.html\n",
    "* https://pref-voting.readthedocs.io/en/latest/other_methods.html\n",
    "\n",
    "The ``voting_methods_registry`` module contains a listing of the voting methods that have been implemented.\n"
   ]
  },
  {
   "cell_type": "code",
   "execution_count": 35,
   "metadata": {},
   "outputs": [
    {
     "name": "stdout",
     "output_type": "stream",
     "text": [
      "There are 79 voting methods in the registry:\n",
      "\n",
      "\n",
      "There are 77 voting methods that can be applied to a Profile object\n",
      "Anti-Plurality\n",
      "Borda\n",
      "Dowdall\n",
      "Plurality\n",
      "Positive-Negative Voting\n",
      "Baldwin\n",
      "Baldwin PUT\n",
      "Baldwin TB\n",
      "Benham\n",
      "Benham PUT\n",
      "Benham TB\n",
      "Bottom-Two-Runoff Instant Runoff\n",
      "Bottom-Two-Runoff Instant Runoff PUT\n",
      "Coombs\n",
      "Coombs PUT\n",
      "Coombs TB\n",
      "GOCHA\n",
      "Instant Runoff\n",
      "Instant Runoff PUT\n",
      "Instant Runoff TB\n",
      "Iterated Removal Condorcet Loser\n",
      "Knockout Voting\n",
      "PluralityWRunoff PUT\n",
      "Raynaud\n",
      "Split Cycle\n",
      "Strict Nanson\n",
      "Tideman Alternative GOCHA\n",
      "Tideman Alternative GOCHA PUT\n",
      "Tideman Alternative Top Cycle\n",
      "Tideman Alternative Top Cycle PUT\n",
      "Top Cycle\n",
      "Weak Nanson\n",
      "Woodall\n",
      "Banks\n",
      "Bipartisan Set\n",
      "Condorcet\n",
      "Copeland\n",
      "Llull\n",
      "Slater\n",
      "Uncovered Set - Bordes\n",
      "Uncovered Set - Fishburn\n",
      "Uncovered Set\n",
      "Uncovered Set - McKelvey\n",
      "Simple Stable Voting\n",
      "Beat Path\n",
      "Essential Set\n",
      "Loss-Trimmer Voting\n",
      "Minimax\n",
      "Ranked Pairs\n",
      "Ranked Pairs TB\n",
      "Ranked Pairs ZT\n",
      "River\n",
      "River TB\n",
      "River ZT\n",
      "Stable Voting\n",
      "Weighted Covering\n",
      "Blacks\n",
      "Borda-Minimax Faceoff\n",
      "Condorcet IRV\n",
      "Condorcet IRV PUT\n",
      "Condorcet Plurality\n",
      "Copeland-Global-Borda\n",
      "Copeland-Global-Minimax\n",
      "Copeland-Local-Borda\n",
      "Daunou\n",
      "Smith IRV\n",
      "Smith IRV PUT\n",
      "Smith-Minimax\n",
      "Bracket Voting\n",
      "Bradley-Terry\n",
      "Bucklin\n",
      "Kemeny-Young\n",
      "Pareto\n",
      "Preliminary Weighted Condorcet\n",
      "Simplified Bucklin\n",
      "Superior Voting\n",
      "Weighted Bucklin\n",
      "\n",
      "There are 30 voting methods that can be applied to a ProfileWithTies object\n",
      "GOCHA\n",
      "Iterated Removal Condorcet Loser\n",
      "Raynaud\n",
      "Split Cycle\n",
      "Top Cycle\n",
      "Banks\n",
      "Bipartisan Set\n",
      "Condorcet\n",
      "Copeland\n",
      "Llull\n",
      "Slater\n",
      "Uncovered Set - Bordes\n",
      "Uncovered Set - Fishburn\n",
      "Uncovered Set\n",
      "Uncovered Set - McKelvey\n",
      "Simple Stable Voting\n",
      "Beat Path\n",
      "Essential Set\n",
      "Loss-Trimmer Voting\n",
      "Minimax\n",
      "Ranked Pairs\n",
      "Ranked Pairs TB\n",
      "River\n",
      "River TB\n",
      "Stable Voting\n",
      "Weighted Covering\n",
      "Copeland-Global-Minimax\n",
      "Smith-Minimax\n",
      "Kemeny-Young\n",
      "Pareto\n",
      "\n",
      "There are 31 voting methods that can be applied to a MarginGraph object\n",
      "Borda\n",
      "GOCHA\n",
      "Iterated Removal Condorcet Loser\n",
      "Raynaud\n",
      "Split Cycle\n",
      "Top Cycle\n",
      "Banks\n",
      "Bipartisan Set\n",
      "Condorcet\n",
      "Copeland\n",
      "Llull\n",
      "Slater\n",
      "Uncovered Set - Bordes\n",
      "Uncovered Set - Fishburn\n",
      "Uncovered Set\n",
      "Uncovered Set - McKelvey\n",
      "Simple Stable Voting\n",
      "Beat Path\n",
      "Essential Set\n",
      "Loss-Trimmer Voting\n",
      "Minimax\n",
      "Ranked Pairs\n",
      "Ranked Pairs TB\n",
      "River\n",
      "River TB\n",
      "Stable Voting\n",
      "Weighted Covering\n",
      "Copeland-Global-Minimax\n",
      "Copeland-Local-Borda\n",
      "Smith-Minimax\n",
      "Kemeny-Young\n"
     ]
    }
   ],
   "source": [
    "from pref_voting.voting_methods_registry import voting_methods\n",
    "from pref_voting.voting_method_properties import ElectionTypes\n",
    "\n",
    "print(\"There are\", len(voting_methods), \"voting methods in the registry:\\n\")\n",
    "\n",
    "print(f\"\\nThere are {len(voting_methods.filter(election_types=[ElectionTypes.PROFILE]))} voting methods that can be applied to a Profile object\")\n",
    "for vm in voting_methods:\n",
    "    if ElectionTypes.PROFILE in vm.input_types:\n",
    "        print(vm.name)  \n",
    "\n",
    "print(f\"\\nThere are {len(voting_methods.filter(election_types=[ElectionTypes.PROFILE_WITH_TIES]))} voting methods that can be applied to a ProfileWithTies object\")\n",
    "for vm in voting_methods:\n",
    "    if ElectionTypes.PROFILE_WITH_TIES in vm.input_types:\n",
    "        print(vm.name)  \n",
    "\n",
    "print(f\"\\nThere are {len(voting_methods.filter(election_types=[ElectionTypes.MARGIN_GRAPH]))} voting methods that can be applied to a MarginGraph object\")\n",
    "for vm in voting_methods:\n",
    "    if ElectionTypes.MARGIN_GRAPH in vm.input_types:\n",
    "        print(vm.name)  "
   ]
  },
  {
   "cell_type": "markdown",
   "metadata": {},
   "source": [
    "## Probabilistic Voting Methods"
   ]
  },
  {
   "cell_type": "markdown",
   "metadata": {},
   "source": [
    "A ``ProbabilisticVotingMethod`` is a function that maps election data to a probability distribution over the set of candidates.  There are four probabilistic voting methods that have been implemented:\n",
    "* Random Dictator: Probabilities are proportional to the number of first-place votes that each candidate receives.\n",
    "* Proportional Borda: Probabilities are proportional to the Borda score.\n",
    "* Maximal Lottery: See [http://dss.in.tum.de/files/brandt-research/fishburn_slides.pdf](http://dss.in.tum.de/files/brandt-research/fishburn_slides.pdf) for a description of the Maximal Lottery method and [https://voting.ml/](https://voting.ml/) for an online tool.\n",
    "* C1 Maximal Lottery: See [http://dss.in.tum.de/files/brandt-research/fishburn_slides.pdf](http://dss.in.tum.de/files/brandt-research/fishburn_slides.pdf) for a description of the Maximal Lottery method and [https://voting.ml/](https://voting.ml/) for an online tool."
   ]
  },
  {
   "cell_type": "code",
   "execution_count": 36,
   "metadata": {},
   "outputs": [
    {
     "name": "stdout",
     "output_type": "stream",
     "text": [
      "+---+---+---+---+---+---+---+---+---+---+---+---+\n",
      "| 2 | 2 | 1 | 1 | 1 | 2 | 1 | 1 | 1 | 1 | 1 | 1 |\n",
      "+---+---+---+---+---+---+---+---+---+---+---+---+\n",
      "| 4 | 2 | 2 | 0 | 4 | 2 | 2 | 0 | 0 | 3 | 4 | 1 |\n",
      "| 2 | 1 | 3 | 1 | 1 | 4 | 4 | 1 | 4 | 4 | 2 | 2 |\n",
      "| 1 | 4 | 1 | 3 | 2 | 1 | 1 | 2 | 2 | 1 | 1 | 3 |\n",
      "| 0 | 3 | 0 | 2 | 3 | 0 | 3 | 3 | 1 | 0 | 3 | 0 |\n",
      "| 3 | 0 | 4 | 4 | 0 | 3 | 0 | 4 | 3 | 2 | 0 | 4 |\n",
      "+---+---+---+---+---+---+---+---+---+---+---+---+\n",
      "\n",
      "Random Dictator probability is {0: 0.2, 1: 0.067, 2: 0.4, 3: 0.067, 4: 0.267}\n",
      "Proportional Borda probability is {0: 0.127, 1: 0.24, 2: 0.287, 3: 0.113, 4: 0.233}\n",
      "C1 Maximal Lottery probability is {0: 0.0, 1: 0.0, 2: 1.0, 3: 0.0, 4: 0.0}\n",
      "Maximal Lottery probability is {0: 0.0, 1: 0.0, 2: 1.0, 3: 0.0, 4: 0.0}\n"
     ]
    }
   ],
   "source": [
    "from pref_voting.probabilistic_methods import *\n",
    "from pref_voting.generate_profiles import *\n",
    "\n",
    "prof = generate_profile(5, 15)\n",
    "prof.anonymize().display()\n",
    "print()\n",
    "\n",
    "random_dictator.display(prof)\n",
    "pr_borda.display(prof)\n",
    "c1_maximal_lottery.display(prof)\n",
    "maximal_lottery.display(prof.margin_graph())\n",
    "\n"
   ]
  },
  {
   "cell_type": "markdown",
   "metadata": {},
   "source": [
    "Each ``VotingMethod`` can be converted into a ``ProbabilisticVotingMethod`` using the ``create_probabilistic_voting_method`` function. The idea is that, if $vm$ is a ``VotingMethod``, it can be transformed by applying even-chance tiebreaking. This means that when there is a tie, each winner has an equal probability of being selected. That is, the probability of a candidate $a$ is 0 if $a$ is not a winner according to $vm$ and $1/m$ where $m$ is the number of winners according to $vm$.\n",
    "\n"
   ]
  },
  {
   "cell_type": "code",
   "execution_count": 41,
   "metadata": {},
   "outputs": [
    {
     "name": "stdout",
     "output_type": "stream",
     "text": [
      "+---+---+---+---+---+---+---+---+---+---+---+---+---+---+\n",
      "| 1 | 1 | 1 | 1 | 1 | 1 | 1 | 2 | 1 | 1 | 1 | 1 | 1 | 1 |\n",
      "+---+---+---+---+---+---+---+---+---+---+---+---+---+---+\n",
      "| 1 | 1 | 3 | 3 | 0 | 2 | 1 | 3 | 4 | 3 | 3 | 3 | 0 | 2 |\n",
      "| 0 | 4 | 4 | 1 | 3 | 3 | 2 | 1 | 2 | 0 | 2 | 0 | 4 | 1 |\n",
      "| 2 | 3 | 1 | 0 | 2 | 0 | 4 | 2 | 0 | 4 | 4 | 2 | 3 | 4 |\n",
      "| 3 | 0 | 0 | 2 | 4 | 1 | 0 | 4 | 3 | 2 | 1 | 1 | 1 | 0 |\n",
      "| 4 | 2 | 2 | 4 | 1 | 4 | 3 | 0 | 1 | 1 | 0 | 4 | 2 | 3 |\n",
      "+---+---+---+---+---+---+---+---+---+---+---+---+---+---+\n",
      "\n",
      "Random dictator and Plurality with Even Chance Tiebreaking will generally give different results:\n",
      "Plurality with Even Chance Tiebreaking probability is {0: 0.0, 1: 0.0, 2: 0.0, 3: 1.0, 4: 0.0}\n",
      "Random Dictator probability is {0: 0.133, 1: 0.2, 2: 0.133, 3: 0.467, 4: 0.067}\n",
      "\n",
      "Proportional Borda and Borda with Even Chance Tiebreaking will generally give different results:\n",
      "Borda with Even Chance Tiebreaking probability is {0: 0.0, 1: 0.0, 2: 0.0, 3: 1.0, 4: 0.0}\n",
      "Proportional Borda probability is {0: 0.18, 1: 0.2, 2: 0.193, 3: 0.267, 4: 0.16}\n",
      "\n",
      "Minimax winner is {3}\n",
      "Minimax with Even Chance Tiebreaking probability is {0: 0.0, 1: 0.0, 2: 0.0, 3: 1.0, 4: 0.0}\n",
      "\n",
      "Split Cycle winner is {3}\n",
      "Split Cycle with Even Chance Tiebreaking probability is {0: 0.0, 1: 0.0, 2: 0.0, 3: 1.0, 4: 0.0}\n"
     ]
    }
   ],
   "source": [
    "from pref_voting.probabilistic_methods import create_probabilistic_method\n",
    "\n",
    "prof = generate_profile(5, 15)\n",
    "prof.anonymize().display()\n",
    "print()\n",
    "\n",
    "print(\"Random dictator and Plurality with Even Chance Tiebreaking will generally give different results:\")   \n",
    "prob_pl = create_probabilistic_method(plurality)\n",
    "prob_pl.display(prof)\n",
    "random_dictator.display(prof)\n",
    "print(\"\\nProportional Borda and Borda with Even Chance Tiebreaking will generally give different results:\")\n",
    "prob_borda = create_probabilistic_method(borda)\n",
    "prob_borda.display(prof)\n",
    "pr_borda.display(prof)\n",
    "\n",
    "print()\n",
    "prob_minimax = create_probabilistic_method(minimax)\n",
    "minimax.display(prof)\n",
    "prob_minimax.display(prof)\n",
    "\n",
    "print()\n",
    "\n",
    "prob_split_cycle = create_probabilistic_method(split_cycle)\n",
    "split_cycle.display(prof)\n",
    "prob_split_cycle.display(prof)"
   ]
  },
  {
   "cell_type": "markdown",
   "metadata": {},
   "source": [
    "## Social Welfare Functions \n",
    "\n",
    "A ``SocialWelfareFunction`` is a function that maps an election to a ranking of the candidates.   The output is a ``Ranking`` object. "
   ]
  },
  {
   "cell_type": "markdown",
   "metadata": {},
   "source": [
    "There are Social Welfare Functions that are defined based on scoring rules that assign a score to each candidate based on the rankings of that candidate by the voters. "
   ]
  },
  {
   "cell_type": "code",
   "execution_count": 42,
   "metadata": {},
   "outputs": [
    {
     "name": "stdout",
     "output_type": "stream",
     "text": [
      "+---+---+---+---+---+---+---+---+---+---+---+---+---+\n",
      "| 1 | 1 | 2 | 1 | 2 | 1 | 1 | 1 | 1 | 1 | 1 | 1 | 1 |\n",
      "+---+---+---+---+---+---+---+---+---+---+---+---+---+\n",
      "| 0 | 1 | 3 | 2 | 1 | 2 | 0 | 3 | 2 | 3 | 0 | 2 | 1 |\n",
      "| 1 | 3 | 4 | 3 | 2 | 4 | 2 | 4 | 0 | 4 | 4 | 1 | 3 |\n",
      "| 4 | 0 | 2 | 4 | 0 | 1 | 1 | 1 | 1 | 1 | 3 | 0 | 4 |\n",
      "| 2 | 4 | 1 | 0 | 4 | 0 | 4 | 2 | 4 | 0 | 1 | 4 | 2 |\n",
      "| 3 | 2 | 0 | 1 | 3 | 3 | 3 | 0 | 3 | 2 | 2 | 3 | 0 |\n",
      "+---+---+---+---+---+---+---+---+---+---+---+---+---+\n",
      "Plurality ranking ranking is ( 1  2  3 ) 0 4 \n",
      "Borda ranking ranking is 1 2 4 3 0 \n",
      "Anti-Plurality ranking ranking is 4 1 2 0 3 \n",
      "Score Ranking ranking is ( 1  2  3 ) 0 4 \n"
     ]
    }
   ],
   "source": [
    "from pref_voting.social_welfare_functions import *\n",
    "\n",
    "prof = generate_profile(5, 15)\n",
    "prof.anonymize().display()\n",
    "\n",
    "for swf in scoring_swfs:\n",
    "    swf.display(prof)"
   ]
  },
  {
   "cell_type": "markdown",
   "metadata": {},
   "source": [
    "Any voting method can be converted into a social welfare function using the ``swf_from_vm`` function.  The idea is that the candidates that are tied for the win are ranked first, then after remove the winners, the candidates that are tied for the win in the reduced profile are ranked second, and so on.  \n"
   ]
  },
  {
   "cell_type": "code",
   "execution_count": 43,
   "metadata": {},
   "outputs": [
    {
     "name": "stdout",
     "output_type": "stream",
     "text": [
      "+---+---+---+---+---+\n",
      "| 1 | 1 | 1 | 1 | 1 |\n",
      "+---+---+---+---+---+\n",
      "| 3 | 1 | 3 | 2 | 0 |\n",
      "| 2 | 0 | 0 | 3 | 2 |\n",
      "| 0 | 3 | 1 | 0 | 3 |\n",
      "| 1 | 2 | 2 | 1 | 1 |\n",
      "+---+---+---+---+---+\n",
      "\n",
      "Plurality ranking ranking is 3 ( 0  1  2 ) \n",
      "SWF from Plurality ranking is 3 ( 0  2 ) 1 \n",
      "\n",
      "Borda ranking ranking is 3 0 2 1 \n",
      "SWF from Borda ranking is 3 0 2 1 \n"
     ]
    }
   ],
   "source": [
    "from pref_voting.helper import  swf_from_vm\n",
    "\n",
    "prof = generate_profile(4, 5)\n",
    "prof.anonymize().display()\n",
    "\n",
    "print()\n",
    "\n",
    "# Ranking based on Plurality scores is generally different than the ranking\n",
    "# based on the Plurality voting method\n",
    "plurality_ranking.display(prof)\n",
    "ranking_from_pl = swf_from_vm(plurality)\n",
    "ranking_from_pl.display(prof)\n",
    "\n",
    "print()\n",
    "# Ranking based on Borda scores is generally different than the ranking\n",
    "# based on the Borda voting method\n",
    "borda_ranking.display(prof)\n",
    "ranking_from_borda = swf_from_vm(borda)\n",
    "ranking_from_borda.display(prof)"
   ]
  },
  {
   "cell_type": "markdown",
   "metadata": {},
   "source": [
    "There are a number of Social Welfare Functions that are defined on ``UtilityProfile``.  "
   ]
  },
  {
   "cell_type": "code",
   "execution_count": 44,
   "metadata": {},
   "outputs": [
    {
     "name": "stdout",
     "output_type": "stream",
     "text": [
      "  Voter         0         1          2          3         4\n",
      "-------  --------  --------  ---------  ---------  --------\n",
      "      1  0.644813  0.980447  0.604024   0.633126   0.596883\n",
      "      2  0.588074  0.548162  0.81183    0.0638428  0.192636\n",
      "      3  0.72722   0.182684  0.0309679  0.154553   0.641081\n",
      "      4  0.127021  0.38241   0.024367   0.452076   0.303568\n",
      "      5  0.692511  0.665858  0.137491   0.982295   0.307896\n",
      "Sum Utilitarian ranking is 0 1 3 4 2 \n",
      "Relative Utilitarian ranking is 1 0 3 4 2 \n",
      "Maximin ranking is 4 1 0 3 2 \n",
      "Lexicographic Maximin ranking is 4 1 0 3 2 \n"
     ]
    }
   ],
   "source": [
    "from pref_voting.generate_utility_profiles import *\n",
    "\n",
    "uprof = generate_utility_profile_uniform(5, 5)\n",
    "uprof.display()\n",
    "for swf in utilitarian_swfs: \n",
    "    swf.display(uprof)"
   ]
  }
 ],
 "metadata": {
  "kernelspec": {
   "display_name": "Python 3",
   "language": "python",
   "name": "python3"
  },
  "language_info": {
   "codemirror_mode": {
    "name": "ipython",
    "version": 3
   },
   "file_extension": ".py",
   "mimetype": "text/x-python",
   "name": "python",
   "nbconvert_exporter": "python",
   "pygments_lexer": "ipython3",
   "version": "3.11.6"
  }
 },
 "nbformat": 4,
 "nbformat_minor": 2
}
